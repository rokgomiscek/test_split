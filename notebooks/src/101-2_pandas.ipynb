{
  "cells": [
    {
      "cell_type": "markdown",
      "metadata": {
        "tags": [
          "sl"
        ]
      },
      "source": [
        "## Primer: zimske olimpijske igre, So\u010di 2014\n",
        "\n",
        "Na primeru podatkov o olimpijskih igrah bomo spoznali tabelari\u010dno predstavitev podatkov (atribut-vrednost) v paketu Orange. Preizkusili bomo nekatere pogoste na\u010dine grafi\u010dnega prikaza podatkov."
      ]
    },
    {
      "cell_type": "markdown",
      "metadata": {
        "tags": [
          "en"
        ]
      },
      "source": [
        "## Example: Winter Olympics, Sochi 2014\n",
        "\n",
        "On the case of information about the Olympic Games, we will get to know the tabular presentation of the data (attribute value) in the Orange package. We will try some common ways to graphically display data."
      ]
    },
    {
      "cell_type": "markdown",
      "metadata": {
        "tags": [
          "sl"
        ]
      },
      "source": [
        "### Predstavitev podatkov\n",
        "\n",
        "Tokrat imamo opravka s \u0161portniki, ki so nastopali na zimskih olimpijskih igrah v ruskem letovi\u0161\u010du So\u010di ob \u010crnem morju leta 2014. \n",
        "\n",
        "Za vsakega nastopajo\u010dega \u0161portnika so na voljo naslednji podatki (atributi):\n",
        "\n",
        "* ime in priimek,\n",
        "* starost v letih,\n",
        "* datum rojstva,\n",
        "* spol,\n",
        "* telesna vi\u0161ina,\n",
        "* telesna te\u017ea,\n",
        "* \u0161t. osvojenih zlatih medalj,\n",
        "* \u0161t. osvojenih srebrnih medalj,\n",
        "* \u0161t. osvojenih bronastih medalj,\n",
        "* \u0161t. vseh osvojenih medalj,\n",
        "* \u0161portna panoga,\n",
        "* dr\u017eava, katero zastopa.\n",
        "\n",
        "##### Vpra\u0161anje 2-2-1\n",
        "\n",
        "S kak\u0161nim podatkovnim tipom bi predstavil/a vsakega od atributov?"
      ]
    },
    {
      "cell_type": "markdown",
      "metadata": {
        "tags": [
          "en"
        ]
      },
      "source": [
        "### Data presentation\n",
        "\n",
        "This time we are dealing with athletes who took part in the Winter Olympics in the Russian resort Sochi near the Black Sea in 2014.\n",
        "\n",
        "The following data (attributes) are available for each athlete:\n",
        "\n",
        "* name and surname,\n",
        "* age in years,\n",
        "* date of birth,\n",
        "* gender,\n",
        "* height,\n",
        "* body weight,\n",
        "* no. won gold medals,\n",
        "* no. won silver medals,\n",
        "* no. won bronze medals,\n",
        "* no. of all medals won,\n",
        "* The sports category,\n",
        "* the country it represents.\n",
        "\n",
        "##### Question 2-2-1\n",
        "\n",
        "With what kind of data type would you present each of the attributes?"
      ]
    },
    {
      "cell_type": "code",
      "execution_count": null,
      "metadata": {},
      "outputs": [],
      "source": []
    },
    {
      "cell_type": "markdown",
      "metadata": {
        "tags": [
          "sl"
        ]
      },
      "source": [
        "[Odgovor](202-2.ipynb#Odgovor-2-2-1)"
      ]
    },
    {
      "cell_type": "markdown",
      "metadata": {
        "tags": [
          "en"
        ]
      },
      "source": [
        "[Answer](202-2.ipynb#Answer-2-2-1)"
      ]
    },
    {
      "cell_type": "markdown",
      "metadata": {
        "tags": [
          "sl"
        ]
      },
      "source": [
        "Do sedaj smo spoznali na\u010dine za shranjevanje numeri\u010dnih podatkov, kot so cela in decimalna \u0161tevila. Nenumeri\u010dne podatke, kot so dr\u017eava ter naziv tekmovalca, ne moremo enostavno predstaviti v numeri\u010dni obliki. Pomagali si bomo s knji\u017enjico `Orange`, ki skupaj s  \u0161tevili hrani naslednje tipe podatkov:\n",
        "\n",
        "* **[c]ontinuous** ali zvezni atributi, s katerimi predstavimo \u0161tevilske podatke (tudi cela \u0161tevila),\n",
        "* **[d]iscrete** ali diskretni atributi imajo zalogo vrednosti iz kon\u010dne mno\u017eice. Npr. spol je element mno\u017eice `{mo\u0161ki, \u017eenska}` ali okusi sladoleda `{\u010dokolada, vanilija, jagoda}`. Pomni, da za razliko od \u0161tevil med elementi takih mno\u017eic ne obstaja urejen vrstni red.\n",
        "* **[s]tring** ali niz znakov, hrani nize znakov poljubne (kon\u010dne) dol\u017eine."
      ]
    },
    {
      "cell_type": "markdown",
      "metadata": {
        "tags": [
          "en"
        ]
      },
      "source": [
        "So far, we have learned ways to store numerical data, such as integers and decimal numbers. Numerical data, such as the country and the name of the competitor, can not be easily represented in numerical form. We will use the `Orange` library, which stores the following data types along with numbers:\n",
        "\n",
        "* **[c]ontinuous**  attributes to represent numerical data (including integers),\n",
        "* **[d]iscrete**  attributes have a stock of values from a finite set. For example. Gender is an element of the `{man, woman}` set, or ice-cream flavors `{chocolate, vanilla, strawberry}`. Note that, unlike with numbers, there is no order between the elements of such sets. \n",
        "* **[s]tring** of characters, stores the sets of characters of any (final) length."
      ]
    },
    {
      "cell_type": "markdown",
      "metadata": {
        "tags": [
          "sl"
        ]
      },
      "source": [
        "##### Vpra\u0161anje 2-2-2\n",
        "\n",
        "Katerega od treh na\u0161tetih tipov podatkov bi uporabil za vsakega od atributov \u0161portnikov? Re\u0161itev najde\u0161, \u010de si ogleda\u0161 prvih nekaj vrstic datoteke [`athletes.tab`](podatki/athletes.tab)."
      ]
    },
    {
      "cell_type": "markdown",
      "metadata": {
        "tags": [
          "en"
        ]
      },
      "source": [
        "##### Question 2-2-2\n",
        "\n",
        "Which of the three types of data would you use for each of the athletes' attributes? You can find the solution if you look at the first few lines of the file [`athletes.tab`](podatki/athletes.tab)."
      ]
    },
    {
      "cell_type": "code",
      "execution_count": null,
      "metadata": {},
      "outputs": [],
      "source": []
    },
    {
      "cell_type": "markdown",
      "metadata": {
        "tags": [
          "sl"
        ]
      },
      "source": [
        "[Odgovor](202-2.ipynb#Odgovor-2-2-2)"
      ]
    },
    {
      "cell_type": "markdown",
      "metadata": {
        "tags": [
          "en"
        ]
      },
      "source": [
        "[Answer](202-2.ipynb#Answer-2-2-2)"
      ]
    },
    {
      "cell_type": "markdown",
      "metadata": {
        "tags": [
          "sl"
        ]
      },
      "source": [
        "### Knji\u017enica  `pandas`\n",
        "\n",
        "Podatke nalo\u017eimo v spremenljivko tipa `DataFrame`. Podatkovni tipi atributov so dolo\u010deni glede na vrednosti.  "
      ]
    },
    {
      "cell_type": "markdown",
      "metadata": {
        "tags": [
          "en"
        ]
      },
      "source": [
        "### Library `pandas`\n",
        "\n",
        "We load the data into a variable of type `DataFrame`. The data types of attributes are assigned autimatically."
      ]
    },
    {
      "cell_type": "code",
      "execution_count": 1,
      "metadata": {},
      "outputs": [
        {
          "data": {
            "text/html": [
              "<div>\n",
              "<style scoped>\n",
              "    .dataframe tbody tr th:only-of-type {\n",
              "        vertical-align: middle;\n",
              "    }\n",
              "\n",
              "    .dataframe tbody tr th {\n",
              "        vertical-align: top;\n",
              "    }\n",
              "\n",
              "    .dataframe thead th {\n",
              "        text-align: right;\n",
              "    }\n",
              "</style>\n",
              "<table border=\"1\" class=\"dataframe\">\n",
              "  <thead>\n",
              "    <tr style=\"text-align: right;\">\n",
              "      <th></th>\n",
              "      <th>age</th>\n",
              "      <th>birthdate</th>\n",
              "      <th>gender</th>\n",
              "      <th>height</th>\n",
              "      <th>name</th>\n",
              "      <th>weight</th>\n",
              "      <th>gold_medals</th>\n",
              "      <th>silver_medals</th>\n",
              "      <th>bronze_medals</th>\n",
              "      <th>total_medals</th>\n",
              "      <th>sport</th>\n",
              "      <th>country</th>\n",
              "    </tr>\n",
              "  </thead>\n",
              "  <tbody>\n",
              "    <tr>\n",
              "      <th>0</th>\n",
              "      <td>17</td>\n",
              "      <td>1996-04-12</td>\n",
              "      <td>Male</td>\n",
              "      <td>1.72</td>\n",
              "      <td>Aaron Blunck</td>\n",
              "      <td>68</td>\n",
              "      <td>0</td>\n",
              "      <td>0</td>\n",
              "      <td>0</td>\n",
              "      <td>0</td>\n",
              "      <td>Freestyle Skiing</td>\n",
              "      <td>United States</td>\n",
              "    </tr>\n",
              "    <tr>\n",
              "      <th>1</th>\n",
              "      <td>27</td>\n",
              "      <td>1986-05-14</td>\n",
              "      <td>Male</td>\n",
              "      <td>1.85</td>\n",
              "      <td>Aaron March</td>\n",
              "      <td>85</td>\n",
              "      <td>0</td>\n",
              "      <td>0</td>\n",
              "      <td>0</td>\n",
              "      <td>0</td>\n",
              "      <td>Snowboard</td>\n",
              "      <td>Italy</td>\n",
              "    </tr>\n",
              "    <tr>\n",
              "      <th>2</th>\n",
              "      <td>21</td>\n",
              "      <td>1992-06-30</td>\n",
              "      <td>Male</td>\n",
              "      <td>1.78</td>\n",
              "      <td>Abzal Azhgaliyev</td>\n",
              "      <td>68</td>\n",
              "      <td>0</td>\n",
              "      <td>0</td>\n",
              "      <td>0</td>\n",
              "      <td>0</td>\n",
              "      <td>Short Track</td>\n",
              "      <td>Kazakhstan</td>\n",
              "    </tr>\n",
              "    <tr>\n",
              "      <th>3</th>\n",
              "      <td>21</td>\n",
              "      <td>1992-07-30</td>\n",
              "      <td>Male</td>\n",
              "      <td>1.86</td>\n",
              "      <td>Adam Barwood</td>\n",
              "      <td>82</td>\n",
              "      <td>0</td>\n",
              "      <td>0</td>\n",
              "      <td>0</td>\n",
              "      <td>0</td>\n",
              "      <td>Alpine Skiing</td>\n",
              "      <td>New Zealand</td>\n",
              "    </tr>\n",
              "    <tr>\n",
              "      <th>4</th>\n",
              "      <td>21</td>\n",
              "      <td>1992-12-18</td>\n",
              "      <td>Male</td>\n",
              "      <td>1.75</td>\n",
              "      <td>Adam Cieslar</td>\n",
              "      <td>57</td>\n",
              "      <td>0</td>\n",
              "      <td>0</td>\n",
              "      <td>0</td>\n",
              "      <td>0</td>\n",
              "      <td>Nordic Combined</td>\n",
              "      <td>Poland</td>\n",
              "    </tr>\n",
              "    <tr>\n",
              "      <th>...</th>\n",
              "      <td>...</td>\n",
              "      <td>...</td>\n",
              "      <td>...</td>\n",
              "      <td>...</td>\n",
              "      <td>...</td>\n",
              "      <td>...</td>\n",
              "      <td>...</td>\n",
              "      <td>...</td>\n",
              "      <td>...</td>\n",
              "      <td>...</td>\n",
              "      <td>...</td>\n",
              "      <td>...</td>\n",
              "    </tr>\n",
              "    <tr>\n",
              "      <th>2471</th>\n",
              "      <td>28</td>\n",
              "      <td>1985-04-30</td>\n",
              "      <td>Male</td>\n",
              "      <td>1.93</td>\n",
              "      <td>Ziga Pavlin</td>\n",
              "      <td>98</td>\n",
              "      <td>0</td>\n",
              "      <td>0</td>\n",
              "      <td>0</td>\n",
              "      <td>0</td>\n",
              "      <td>Ice Hockey</td>\n",
              "      <td>Slovenia</td>\n",
              "    </tr>\n",
              "    <tr>\n",
              "      <th>2472</th>\n",
              "      <td>31</td>\n",
              "      <td>1982-12-05</td>\n",
              "      <td>Female</td>\n",
              "      <td>1.70</td>\n",
              "      <td>Zina Kocher</td>\n",
              "      <td>60</td>\n",
              "      <td>0</td>\n",
              "      <td>0</td>\n",
              "      <td>0</td>\n",
              "      <td>0</td>\n",
              "      <td>Biathlon</td>\n",
              "      <td>Canada</td>\n",
              "    </tr>\n",
              "    <tr>\n",
              "      <th>2473</th>\n",
              "      <td>28</td>\n",
              "      <td>1985-06-14</td>\n",
              "      <td>Female</td>\n",
              "      <td>1.68</td>\n",
              "      <td>Zoe Gillings</td>\n",
              "      <td>65</td>\n",
              "      <td>0</td>\n",
              "      <td>0</td>\n",
              "      <td>0</td>\n",
              "      <td>0</td>\n",
              "      <td>Snowboard</td>\n",
              "      <td>Great Britain</td>\n",
              "    </tr>\n",
              "    <tr>\n",
              "      <th>2474</th>\n",
              "      <td>22</td>\n",
              "      <td>1991-03-01</td>\n",
              "      <td>Male</td>\n",
              "      <td>1.76</td>\n",
              "      <td>Zongyang Jia</td>\n",
              "      <td>68</td>\n",
              "      <td>0</td>\n",
              "      <td>0</td>\n",
              "      <td>1</td>\n",
              "      <td>1</td>\n",
              "      <td>Freestyle Skiing</td>\n",
              "      <td>China</td>\n",
              "    </tr>\n",
              "    <tr>\n",
              "      <th>2475</th>\n",
              "      <td>19</td>\n",
              "      <td>1995-02-06</td>\n",
              "      <td>Female</td>\n",
              "      <td>1.58</td>\n",
              "      <td>Zsofia Konya</td>\n",
              "      <td>54</td>\n",
              "      <td>0</td>\n",
              "      <td>0</td>\n",
              "      <td>0</td>\n",
              "      <td>0</td>\n",
              "      <td>Short Track</td>\n",
              "      <td>Hungary</td>\n",
              "    </tr>\n",
              "  </tbody>\n",
              "</table>\n",
              "<p>2476 rows \u00d7 12 columns</p>\n",
              "</div>"
            ],
            "text/plain": [
              "      age   birthdate  gender  height              name  weight  gold_medals  \\\n",
              "0      17  1996-04-12    Male    1.72      Aaron Blunck      68            0   \n",
              "1      27  1986-05-14    Male    1.85       Aaron March      85            0   \n",
              "2      21  1992-06-30    Male    1.78  Abzal Azhgaliyev      68            0   \n",
              "3      21  1992-07-30    Male    1.86      Adam Barwood      82            0   \n",
              "4      21  1992-12-18    Male    1.75      Adam Cieslar      57            0   \n",
              "...   ...         ...     ...     ...               ...     ...          ...   \n",
              "2471   28  1985-04-30    Male    1.93       Ziga Pavlin      98            0   \n",
              "2472   31  1982-12-05  Female    1.70       Zina Kocher      60            0   \n",
              "2473   28  1985-06-14  Female    1.68      Zoe Gillings      65            0   \n",
              "2474   22  1991-03-01    Male    1.76      Zongyang Jia      68            0   \n",
              "2475   19  1995-02-06  Female    1.58      Zsofia Konya      54            0   \n",
              "\n",
              "      silver_medals  bronze_medals  total_medals             sport  \\\n",
              "0                 0              0             0  Freestyle Skiing   \n",
              "1                 0              0             0         Snowboard   \n",
              "2                 0              0             0       Short Track   \n",
              "3                 0              0             0     Alpine Skiing   \n",
              "4                 0              0             0   Nordic Combined   \n",
              "...             ...            ...           ...               ...   \n",
              "2471              0              0             0        Ice Hockey   \n",
              "2472              0              0             0          Biathlon   \n",
              "2473              0              0             0         Snowboard   \n",
              "2474              0              1             1  Freestyle Skiing   \n",
              "2475              0              0             0       Short Track   \n",
              "\n",
              "            country  \n",
              "0     United States  \n",
              "1             Italy  \n",
              "2        Kazakhstan  \n",
              "3       New Zealand  \n",
              "4            Poland  \n",
              "...             ...  \n",
              "2471       Slovenia  \n",
              "2472         Canada  \n",
              "2473  Great Britain  \n",
              "2474          China  \n",
              "2475        Hungary  \n",
              "\n",
              "[2476 rows x 12 columns]"
            ]
          },
          "execution_count": 1,
          "metadata": {},
          "output_type": "execute_result"
        }
      ],
      "source": [
        "import pandas as pd\n",
        "data = pd.read_table('podatki/athletes.tab', skiprows=[1])\n",
        "data"
      ]
    },
    {
      "cell_type": "code",
      "execution_count": 2,
      "metadata": {},
      "outputs": [
        {
          "data": {
            "text/plain": [
              "pandas.core.frame.DataFrame"
            ]
          },
          "execution_count": 2,
          "metadata": {},
          "output_type": "execute_result"
        }
      ],
      "source": [
        "type(data)"
      ]
    },
    {
      "cell_type": "markdown",
      "metadata": {
        "tags": [
          "sl"
        ]
      },
      "source": [
        "Domena je mno\u017eica imen stolpcev."
      ]
    },
    {
      "cell_type": "markdown",
      "metadata": {
        "tags": [
          "en"
        ]
      },
      "source": [
        "Domain is a set of column names."
      ]
    },
    {
      "cell_type": "code",
      "execution_count": 3,
      "metadata": {},
      "outputs": [
        {
          "data": {
            "text/plain": [
              "Index(['age', 'birthdate', 'gender', 'height', 'name', 'weight', 'gold_medals',\n",
              "       'silver_medals', 'bronze_medals', 'total_medals', 'sport', 'country'],\n",
              "      dtype='object')"
            ]
          },
          "execution_count": 3,
          "metadata": {},
          "output_type": "execute_result"
        }
      ],
      "source": [
        "data.columns"
      ]
    },
    {
      "cell_type": "markdown",
      "metadata": {
        "tags": [
          "sl"
        ]
      },
      "source": [
        "Preverimo tipe posameznih atributov."
      ]
    },
    {
      "cell_type": "markdown",
      "metadata": {
        "tags": [
          "en"
        ]
      },
      "source": [
        "Check the types of individual attributes."
      ]
    },
    {
      "cell_type": "code",
      "execution_count": 4,
      "metadata": {},
      "outputs": [
        {
          "data": {
            "text/plain": [
              "age                int64\n",
              "birthdate         object\n",
              "gender            object\n",
              "height           float64\n",
              "name              object\n",
              "weight             int64\n",
              "gold_medals        int64\n",
              "silver_medals      int64\n",
              "bronze_medals      int64\n",
              "total_medals       int64\n",
              "sport             object\n",
              "country           object\n",
              "dtype: object"
            ]
          },
          "execution_count": 4,
          "metadata": {},
          "output_type": "execute_result"
        }
      ],
      "source": [
        "data.dtypes"
      ]
    },
    {
      "cell_type": "markdown",
      "metadata": {
        "tags": [
          "sl"
        ]
      },
      "source": [
        "Za diskretne atribute lahko dostopamo do zaloge vrednosti."
      ]
    },
    {
      "cell_type": "markdown",
      "metadata": {
        "tags": [
          "en"
        ]
      },
      "source": [
        "For discrete attributes we can access the set of values."
      ]
    },
    {
      "cell_type": "code",
      "execution_count": 5,
      "metadata": {},
      "outputs": [
        {
          "data": {
            "text/plain": [
              "array(['Freestyle Skiing', 'Snowboard', 'Short Track', 'Alpine Skiing',\n",
              "       'Nordic Combined', 'Cross-Country', 'Biathlon', 'Luge',\n",
              "       'Ice Hockey', 'Bobsleigh', 'Speed Skating', 'Skeleton',\n",
              "       'Ski Jumping', 'Curling'], dtype=object)"
            ]
          },
          "execution_count": 5,
          "metadata": {},
          "output_type": "execute_result"
        }
      ],
      "source": [
        "pd.unique(data['sport'])"
      ]
    },
    {
      "cell_type": "markdown",
      "metadata": {
        "tags": [
          "sl"
        ]
      },
      "source": [
        "Dostopamo lahko do posameznih vrstic:"
      ]
    },
    {
      "cell_type": "markdown",
      "metadata": {
        "tags": [
          "en"
        ]
      },
      "source": [
        "We can access individual lines:"
      ]
    },
    {
      "cell_type": "code",
      "execution_count": 6,
      "metadata": {},
      "outputs": [
        {
          "name": "stdout",
          "output_type": "stream",
          "text": [
            "age                            17\n",
            "birthdate              1996-04-12\n",
            "gender                       Male\n",
            "height                       1.72\n",
            "name                 Aaron Blunck\n",
            "weight                         68\n",
            "gold_medals                     0\n",
            "silver_medals                   0\n",
            "bronze_medals                   0\n",
            "total_medals                    0\n",
            "sport            Freestyle Skiing\n",
            "country             United States\n",
            "Name: 0, dtype: object\n",
            "\n",
            "   age   birthdate gender  height          name  weight  gold_medals  \\\n",
            "3   21  1992-07-30   Male    1.86  Adam Barwood      82            0   \n",
            "4   21  1992-12-18   Male    1.75  Adam Cieslar      57            0   \n",
            "\n",
            "   silver_medals  bronze_medals  total_medals            sport      country  \n",
            "3              0              0             0    Alpine Skiing  New Zealand  \n",
            "4              0              0             0  Nordic Combined       Poland  \n"
          ]
        }
      ],
      "source": [
        "print(data.iloc[0])\n",
        "print()\n",
        "print(data.iloc[3:5])"
      ]
    },
    {
      "cell_type": "markdown",
      "metadata": {
        "tags": [
          "sl"
        ]
      },
      "source": [
        "Dostopamo lahko do atributov posamezne vrstice.\n",
        "Navedeni na\u010dini so ekvivalentni za dostop do \u0161porta \u0161portnika v prvi vrstici:"
      ]
    },
    {
      "cell_type": "markdown",
      "metadata": {
        "tags": [
          "en"
        ]
      },
      "source": [
        "We can access the attributes of each line.\n",
        "These modes are equivalent to accessing the sport on the sportsman in the first line:"
      ]
    },
    {
      "cell_type": "code",
      "execution_count": 7,
      "metadata": {},
      "outputs": [
        {
          "name": "stdout",
          "output_type": "stream",
          "text": [
            "Freestyle Skiing\n",
            "Freestyle Skiing\n"
          ]
        }
      ],
      "source": [
        "print(data.iloc[0, 10])\n",
        "print(data.loc[0, 'sport'])"
      ]
    },
    {
      "cell_type": "markdown",
      "metadata": {
        "tags": [
          "sl"
        ]
      },
      "source": [
        "Dostopamo tudi do ve\u010d stolpcev hkrati:"
      ]
    },
    {
      "cell_type": "markdown",
      "metadata": {
        "tags": [
          "en"
        ]
      },
      "source": [
        "We also access multiple columns at the same time:"
      ]
    },
    {
      "cell_type": "code",
      "execution_count": 8,
      "metadata": {},
      "outputs": [
        {
          "name": "stdout",
          "output_type": "stream",
          "text": [
            "name           Aaron Blunck\n",
            "sport      Freestyle Skiing\n",
            "country       United States\n",
            "Name: 0, dtype: object\n",
            "\n",
            "name           Aaron Blunck\n",
            "sport      Freestyle Skiing\n",
            "country       United States\n",
            "Name: 0, dtype: object\n"
          ]
        }
      ],
      "source": [
        "print(data.loc[0, ['name','sport', 'country']])\n",
        "print()\n",
        "print(data.iloc[0, [4,10,11]])"
      ]
    },
    {
      "cell_type": "markdown",
      "metadata": {
        "tags": [
          "sl"
        ]
      },
      "source": [
        "### Izbira podmno\u017eice vrstic\n",
        "\n",
        "Za izbiro podmno\u017eice vrstic uporabimo filter. Naredimo objekt filter, ki vklju\u010duje pogoj ter ga pokli\u010demo na podmno\u017eici podatkov."
      ]
    },
    {
      "cell_type": "markdown",
      "metadata": {
        "tags": [
          "en"
        ]
      },
      "source": [
        "### Selecting a subset of rows\n",
        "\n",
        "We use a filter to select a subset of rows. Let's create a filter object that includes a condition and call it on a subset of the data."
      ]
    },
    {
      "cell_type": "code",
      "execution_count": 9,
      "metadata": {},
      "outputs": [
        {
          "data": {
            "text/html": [
              "<div>\n",
              "<style scoped>\n",
              "    .dataframe tbody tr th:only-of-type {\n",
              "        vertical-align: middle;\n",
              "    }\n",
              "\n",
              "    .dataframe tbody tr th {\n",
              "        vertical-align: top;\n",
              "    }\n",
              "\n",
              "    .dataframe thead th {\n",
              "        text-align: right;\n",
              "    }\n",
              "</style>\n",
              "<table border=\"1\" class=\"dataframe\">\n",
              "  <thead>\n",
              "    <tr style=\"text-align: right;\">\n",
              "      <th></th>\n",
              "      <th>age</th>\n",
              "      <th>birthdate</th>\n",
              "      <th>gender</th>\n",
              "      <th>height</th>\n",
              "      <th>name</th>\n",
              "      <th>weight</th>\n",
              "      <th>gold_medals</th>\n",
              "      <th>silver_medals</th>\n",
              "      <th>bronze_medals</th>\n",
              "      <th>total_medals</th>\n",
              "      <th>sport</th>\n",
              "      <th>country</th>\n",
              "    </tr>\n",
              "  </thead>\n",
              "  <tbody>\n",
              "    <tr>\n",
              "      <th>3</th>\n",
              "      <td>21</td>\n",
              "      <td>1992-07-30</td>\n",
              "      <td>Male</td>\n",
              "      <td>1.86</td>\n",
              "      <td>Adam Barwood</td>\n",
              "      <td>82</td>\n",
              "      <td>0</td>\n",
              "      <td>0</td>\n",
              "      <td>0</td>\n",
              "      <td>0</td>\n",
              "      <td>Alpine Skiing</td>\n",
              "      <td>New Zealand</td>\n",
              "    </tr>\n",
              "    <tr>\n",
              "      <th>5</th>\n",
              "      <td>18</td>\n",
              "      <td>1995-04-22</td>\n",
              "      <td>Male</td>\n",
              "      <td>1.70</td>\n",
              "      <td>Adam Lamhamedi</td>\n",
              "      <td>76</td>\n",
              "      <td>0</td>\n",
              "      <td>0</td>\n",
              "      <td>0</td>\n",
              "      <td>0</td>\n",
              "      <td>Alpine Skiing</td>\n",
              "      <td>Morocco</td>\n",
              "    </tr>\n",
              "    <tr>\n",
              "      <th>6</th>\n",
              "      <td>23</td>\n",
              "      <td>1990-09-13</td>\n",
              "      <td>Male</td>\n",
              "      <td>1.78</td>\n",
              "      <td>Adam Zampa</td>\n",
              "      <td>80</td>\n",
              "      <td>0</td>\n",
              "      <td>0</td>\n",
              "      <td>0</td>\n",
              "      <td>0</td>\n",
              "      <td>Alpine Skiing</td>\n",
              "      <td>Slovakia</td>\n",
              "    </tr>\n",
              "    <tr>\n",
              "      <th>7</th>\n",
              "      <td>21</td>\n",
              "      <td>1992-09-28</td>\n",
              "      <td>Female</td>\n",
              "      <td>1.62</td>\n",
              "      <td>Adeline Baud</td>\n",
              "      <td>56</td>\n",
              "      <td>0</td>\n",
              "      <td>0</td>\n",
              "      <td>0</td>\n",
              "      <td>0</td>\n",
              "      <td>Alpine Skiing</td>\n",
              "      <td>France</td>\n",
              "    </tr>\n",
              "    <tr>\n",
              "      <th>10</th>\n",
              "      <td>29</td>\n",
              "      <td>1984-09-18</td>\n",
              "      <td>Male</td>\n",
              "      <td>1.82</td>\n",
              "      <td>Adrien Theaux</td>\n",
              "      <td>80</td>\n",
              "      <td>0</td>\n",
              "      <td>0</td>\n",
              "      <td>0</td>\n",
              "      <td>0</td>\n",
              "      <td>Alpine Skiing</td>\n",
              "      <td>France</td>\n",
              "    </tr>\n",
              "    <tr>\n",
              "      <th>...</th>\n",
              "      <td>...</td>\n",
              "      <td>...</td>\n",
              "      <td>...</td>\n",
              "      <td>...</td>\n",
              "      <td>...</td>\n",
              "      <td>...</td>\n",
              "      <td>...</td>\n",
              "      <td>...</td>\n",
              "      <td>...</td>\n",
              "      <td>...</td>\n",
              "      <td>...</td>\n",
              "      <td>...</td>\n",
              "    </tr>\n",
              "    <tr>\n",
              "      <th>2420</th>\n",
              "      <td>19</td>\n",
              "      <td>1994-12-20</td>\n",
              "      <td>Male</td>\n",
              "      <td>1.81</td>\n",
              "      <td>Yohan Goncalves Goutt</td>\n",
              "      <td>78</td>\n",
              "      <td>0</td>\n",
              "      <td>0</td>\n",
              "      <td>0</td>\n",
              "      <td>0</td>\n",
              "      <td>Alpine Skiing</td>\n",
              "      <td>Timor-Leste</td>\n",
              "    </tr>\n",
              "    <tr>\n",
              "      <th>2425</th>\n",
              "      <td>16</td>\n",
              "      <td>1997-07-19</td>\n",
              "      <td>Female</td>\n",
              "      <td>1.68</td>\n",
              "      <td>Young-seo Kang</td>\n",
              "      <td>60</td>\n",
              "      <td>0</td>\n",
              "      <td>0</td>\n",
              "      <td>0</td>\n",
              "      <td>0</td>\n",
              "      <td>Alpine Skiing</td>\n",
              "      <td>Korea</td>\n",
              "    </tr>\n",
              "    <tr>\n",
              "      <th>2451</th>\n",
              "      <td>24</td>\n",
              "      <td>1989-02-20</td>\n",
              "      <td>Male</td>\n",
              "      <td>1.82</td>\n",
              "      <td>Yuxin Zhang</td>\n",
              "      <td>71</td>\n",
              "      <td>0</td>\n",
              "      <td>0</td>\n",
              "      <td>0</td>\n",
              "      <td>0</td>\n",
              "      <td>Alpine Skiing</td>\n",
              "      <td>China</td>\n",
              "    </tr>\n",
              "    <tr>\n",
              "      <th>2458</th>\n",
              "      <td>21</td>\n",
              "      <td>1992-11-15</td>\n",
              "      <td>Male</td>\n",
              "      <td>1.76</td>\n",
              "      <td>Zan Kranjec</td>\n",
              "      <td>77</td>\n",
              "      <td>0</td>\n",
              "      <td>0</td>\n",
              "      <td>0</td>\n",
              "      <td>0</td>\n",
              "      <td>Alpine Skiing</td>\n",
              "      <td>Slovenia</td>\n",
              "    </tr>\n",
              "    <tr>\n",
              "      <th>2459</th>\n",
              "      <td>28</td>\n",
              "      <td>1985-06-24</td>\n",
              "      <td>Female</td>\n",
              "      <td>1.64</td>\n",
              "      <td>Zana Novakovic</td>\n",
              "      <td>58</td>\n",
              "      <td>0</td>\n",
              "      <td>0</td>\n",
              "      <td>0</td>\n",
              "      <td>0</td>\n",
              "      <td>Alpine Skiing</td>\n",
              "      <td>Bosnia and Herzegovina</td>\n",
              "    </tr>\n",
              "  </tbody>\n",
              "</table>\n",
              "<p>302 rows \u00d7 12 columns</p>\n",
              "</div>"
            ],
            "text/plain": [
              "      age   birthdate  gender  height                   name  weight  \\\n",
              "3      21  1992-07-30    Male    1.86           Adam Barwood      82   \n",
              "5      18  1995-04-22    Male    1.70         Adam Lamhamedi      76   \n",
              "6      23  1990-09-13    Male    1.78             Adam Zampa      80   \n",
              "7      21  1992-09-28  Female    1.62           Adeline Baud      56   \n",
              "10     29  1984-09-18    Male    1.82          Adrien Theaux      80   \n",
              "...   ...         ...     ...     ...                    ...     ...   \n",
              "2420   19  1994-12-20    Male    1.81  Yohan Goncalves Goutt      78   \n",
              "2425   16  1997-07-19  Female    1.68         Young-seo Kang      60   \n",
              "2451   24  1989-02-20    Male    1.82            Yuxin Zhang      71   \n",
              "2458   21  1992-11-15    Male    1.76            Zan Kranjec      77   \n",
              "2459   28  1985-06-24  Female    1.64         Zana Novakovic      58   \n",
              "\n",
              "      gold_medals  silver_medals  bronze_medals  total_medals          sport  \\\n",
              "3               0              0              0             0  Alpine Skiing   \n",
              "5               0              0              0             0  Alpine Skiing   \n",
              "6               0              0              0             0  Alpine Skiing   \n",
              "7               0              0              0             0  Alpine Skiing   \n",
              "10              0              0              0             0  Alpine Skiing   \n",
              "...           ...            ...            ...           ...            ...   \n",
              "2420            0              0              0             0  Alpine Skiing   \n",
              "2425            0              0              0             0  Alpine Skiing   \n",
              "2451            0              0              0             0  Alpine Skiing   \n",
              "2458            0              0              0             0  Alpine Skiing   \n",
              "2459            0              0              0             0  Alpine Skiing   \n",
              "\n",
              "                     country  \n",
              "3                New Zealand  \n",
              "5                    Morocco  \n",
              "6                   Slovakia  \n",
              "7                     France  \n",
              "10                    France  \n",
              "...                      ...  \n",
              "2420             Timor-Leste  \n",
              "2425                   Korea  \n",
              "2451                   China  \n",
              "2458                Slovenia  \n",
              "2459  Bosnia and Herzegovina  \n",
              "\n",
              "[302 rows x 12 columns]"
            ]
          },
          "execution_count": 9,
          "metadata": {},
          "output_type": "execute_result"
        }
      ],
      "source": [
        "data.loc[data['sport'] == 'Alpine Skiing']"
      ]
    },
    {
      "cell_type": "markdown",
      "metadata": {},
      "source": [
        "Za numeri\u010dne stolpce lahko pridobimo osnovne statisti\u010dne podatke."
      ]
    },
    {
      "cell_type": "code",
      "execution_count": 10,
      "metadata": {},
      "outputs": [
        {
          "data": {
            "text/html": [
              "<div>\n",
              "<style scoped>\n",
              "    .dataframe tbody tr th:only-of-type {\n",
              "        vertical-align: middle;\n",
              "    }\n",
              "\n",
              "    .dataframe tbody tr th {\n",
              "        vertical-align: top;\n",
              "    }\n",
              "\n",
              "    .dataframe thead th {\n",
              "        text-align: right;\n",
              "    }\n",
              "</style>\n",
              "<table border=\"1\" class=\"dataframe\">\n",
              "  <thead>\n",
              "    <tr style=\"text-align: right;\">\n",
              "      <th></th>\n",
              "      <th>age</th>\n",
              "      <th>height</th>\n",
              "      <th>weight</th>\n",
              "      <th>gold_medals</th>\n",
              "      <th>silver_medals</th>\n",
              "      <th>bronze_medals</th>\n",
              "      <th>total_medals</th>\n",
              "    </tr>\n",
              "  </thead>\n",
              "  <tbody>\n",
              "    <tr>\n",
              "      <th>count</th>\n",
              "      <td>2476.000000</td>\n",
              "      <td>2476.000000</td>\n",
              "      <td>2476.000000</td>\n",
              "      <td>2476.000000</td>\n",
              "      <td>2476.000000</td>\n",
              "      <td>2476.000000</td>\n",
              "      <td>2476.000000</td>\n",
              "    </tr>\n",
              "    <tr>\n",
              "      <th>mean</th>\n",
              "      <td>25.974152</td>\n",
              "      <td>1.757371</td>\n",
              "      <td>73.113893</td>\n",
              "      <td>0.029887</td>\n",
              "      <td>0.029887</td>\n",
              "      <td>0.030291</td>\n",
              "      <td>0.090065</td>\n",
              "    </tr>\n",
              "    <tr>\n",
              "      <th>std</th>\n",
              "      <td>4.976159</td>\n",
              "      <td>0.090514</td>\n",
              "      <td>13.673625</td>\n",
              "      <td>0.194665</td>\n",
              "      <td>0.177284</td>\n",
              "      <td>0.180603</td>\n",
              "      <td>0.342843</td>\n",
              "    </tr>\n",
              "    <tr>\n",
              "      <th>min</th>\n",
              "      <td>15.000000</td>\n",
              "      <td>1.500000</td>\n",
              "      <td>40.000000</td>\n",
              "      <td>0.000000</td>\n",
              "      <td>0.000000</td>\n",
              "      <td>0.000000</td>\n",
              "      <td>0.000000</td>\n",
              "    </tr>\n",
              "    <tr>\n",
              "      <th>25%</th>\n",
              "      <td>22.000000</td>\n",
              "      <td>1.690000</td>\n",
              "      <td>62.000000</td>\n",
              "      <td>0.000000</td>\n",
              "      <td>0.000000</td>\n",
              "      <td>0.000000</td>\n",
              "      <td>0.000000</td>\n",
              "    </tr>\n",
              "    <tr>\n",
              "      <th>50%</th>\n",
              "      <td>26.000000</td>\n",
              "      <td>1.760000</td>\n",
              "      <td>72.000000</td>\n",
              "      <td>0.000000</td>\n",
              "      <td>0.000000</td>\n",
              "      <td>0.000000</td>\n",
              "      <td>0.000000</td>\n",
              "    </tr>\n",
              "    <tr>\n",
              "      <th>75%</th>\n",
              "      <td>29.000000</td>\n",
              "      <td>1.830000</td>\n",
              "      <td>83.000000</td>\n",
              "      <td>0.000000</td>\n",
              "      <td>0.000000</td>\n",
              "      <td>0.000000</td>\n",
              "      <td>0.000000</td>\n",
              "    </tr>\n",
              "    <tr>\n",
              "      <th>max</th>\n",
              "      <td>55.000000</td>\n",
              "      <td>2.060000</td>\n",
              "      <td>120.000000</td>\n",
              "      <td>3.000000</td>\n",
              "      <td>2.000000</td>\n",
              "      <td>2.000000</td>\n",
              "      <td>3.000000</td>\n",
              "    </tr>\n",
              "  </tbody>\n",
              "</table>\n",
              "</div>"
            ],
            "text/plain": [
              "               age       height       weight  gold_medals  silver_medals  \\\n",
              "count  2476.000000  2476.000000  2476.000000  2476.000000    2476.000000   \n",
              "mean     25.974152     1.757371    73.113893     0.029887       0.029887   \n",
              "std       4.976159     0.090514    13.673625     0.194665       0.177284   \n",
              "min      15.000000     1.500000    40.000000     0.000000       0.000000   \n",
              "25%      22.000000     1.690000    62.000000     0.000000       0.000000   \n",
              "50%      26.000000     1.760000    72.000000     0.000000       0.000000   \n",
              "75%      29.000000     1.830000    83.000000     0.000000       0.000000   \n",
              "max      55.000000     2.060000   120.000000     3.000000       2.000000   \n",
              "\n",
              "       bronze_medals  total_medals  \n",
              "count    2476.000000   2476.000000  \n",
              "mean        0.030291      0.090065  \n",
              "std         0.180603      0.342843  \n",
              "min         0.000000      0.000000  \n",
              "25%         0.000000      0.000000  \n",
              "50%         0.000000      0.000000  \n",
              "75%         0.000000      0.000000  \n",
              "max         2.000000      3.000000  "
            ]
          },
          "execution_count": 10,
          "metadata": {},
          "output_type": "execute_result"
        }
      ],
      "source": [
        "data.describe()"
      ]
    },
    {
      "cell_type": "markdown",
      "metadata": {},
      "source": [
        "S crossdata() pridobimo \u0161tevilo pojavitev za posamezne pare elementov dveh stributov."
      ]
    },
    {
      "cell_type": "code",
      "execution_count": 11,
      "metadata": {},
      "outputs": [
        {
          "data": {
            "text/html": [
              "<div>\n",
              "<style scoped>\n",
              "    .dataframe tbody tr th:only-of-type {\n",
              "        vertical-align: middle;\n",
              "    }\n",
              "\n",
              "    .dataframe tbody tr th {\n",
              "        vertical-align: top;\n",
              "    }\n",
              "\n",
              "    .dataframe thead th {\n",
              "        text-align: right;\n",
              "    }\n",
              "</style>\n",
              "<table border=\"1\" class=\"dataframe\">\n",
              "  <thead>\n",
              "    <tr style=\"text-align: right;\">\n",
              "      <th>sport</th>\n",
              "      <th>Alpine Skiing</th>\n",
              "      <th>Biathlon</th>\n",
              "      <th>Bobsleigh</th>\n",
              "      <th>Cross-Country</th>\n",
              "      <th>Curling</th>\n",
              "      <th>Freestyle Skiing</th>\n",
              "      <th>Ice Hockey</th>\n",
              "      <th>Luge</th>\n",
              "      <th>Nordic Combined</th>\n",
              "      <th>Short Track</th>\n",
              "      <th>Skeleton</th>\n",
              "      <th>Ski Jumping</th>\n",
              "      <th>Snowboard</th>\n",
              "      <th>Speed Skating</th>\n",
              "    </tr>\n",
              "    <tr>\n",
              "      <th>country</th>\n",
              "      <th></th>\n",
              "      <th></th>\n",
              "      <th></th>\n",
              "      <th></th>\n",
              "      <th></th>\n",
              "      <th></th>\n",
              "      <th></th>\n",
              "      <th></th>\n",
              "      <th></th>\n",
              "      <th></th>\n",
              "      <th></th>\n",
              "      <th></th>\n",
              "      <th></th>\n",
              "      <th></th>\n",
              "    </tr>\n",
              "  </thead>\n",
              "  <tbody>\n",
              "    <tr>\n",
              "      <th>Albania</th>\n",
              "      <td>2</td>\n",
              "      <td>0</td>\n",
              "      <td>0</td>\n",
              "      <td>0</td>\n",
              "      <td>0</td>\n",
              "      <td>0</td>\n",
              "      <td>0</td>\n",
              "      <td>0</td>\n",
              "      <td>0</td>\n",
              "      <td>0</td>\n",
              "      <td>0</td>\n",
              "      <td>0</td>\n",
              "      <td>0</td>\n",
              "      <td>0</td>\n",
              "    </tr>\n",
              "    <tr>\n",
              "      <th>Andorra</th>\n",
              "      <td>4</td>\n",
              "      <td>1</td>\n",
              "      <td>0</td>\n",
              "      <td>0</td>\n",
              "      <td>0</td>\n",
              "      <td>0</td>\n",
              "      <td>0</td>\n",
              "      <td>0</td>\n",
              "      <td>0</td>\n",
              "      <td>0</td>\n",
              "      <td>0</td>\n",
              "      <td>0</td>\n",
              "      <td>1</td>\n",
              "      <td>0</td>\n",
              "    </tr>\n",
              "    <tr>\n",
              "      <th>Armenia</th>\n",
              "      <td>1</td>\n",
              "      <td>0</td>\n",
              "      <td>0</td>\n",
              "      <td>3</td>\n",
              "      <td>0</td>\n",
              "      <td>0</td>\n",
              "      <td>0</td>\n",
              "      <td>0</td>\n",
              "      <td>0</td>\n",
              "      <td>0</td>\n",
              "      <td>0</td>\n",
              "      <td>0</td>\n",
              "      <td>0</td>\n",
              "      <td>0</td>\n",
              "    </tr>\n",
              "    <tr>\n",
              "      <th>Australia</th>\n",
              "      <td>5</td>\n",
              "      <td>2</td>\n",
              "      <td>6</td>\n",
              "      <td>4</td>\n",
              "      <td>0</td>\n",
              "      <td>21</td>\n",
              "      <td>0</td>\n",
              "      <td>1</td>\n",
              "      <td>0</td>\n",
              "      <td>2</td>\n",
              "      <td>3</td>\n",
              "      <td>0</td>\n",
              "      <td>11</td>\n",
              "      <td>1</td>\n",
              "    </tr>\n",
              "    <tr>\n",
              "      <th>Austria</th>\n",
              "      <td>20</td>\n",
              "      <td>9</td>\n",
              "      <td>6</td>\n",
              "      <td>8</td>\n",
              "      <td>0</td>\n",
              "      <td>10</td>\n",
              "      <td>25</td>\n",
              "      <td>10</td>\n",
              "      <td>5</td>\n",
              "      <td>1</td>\n",
              "      <td>3</td>\n",
              "      <td>7</td>\n",
              "      <td>17</td>\n",
              "      <td>2</td>\n",
              "    </tr>\n",
              "    <tr>\n",
              "      <th>...</th>\n",
              "      <td>...</td>\n",
              "      <td>...</td>\n",
              "      <td>...</td>\n",
              "      <td>...</td>\n",
              "      <td>...</td>\n",
              "      <td>...</td>\n",
              "      <td>...</td>\n",
              "      <td>...</td>\n",
              "      <td>...</td>\n",
              "      <td>...</td>\n",
              "      <td>...</td>\n",
              "      <td>...</td>\n",
              "      <td>...</td>\n",
              "      <td>...</td>\n",
              "    </tr>\n",
              "    <tr>\n",
              "      <th>Ukraine</th>\n",
              "      <td>2</td>\n",
              "      <td>11</td>\n",
              "      <td>0</td>\n",
              "      <td>8</td>\n",
              "      <td>0</td>\n",
              "      <td>4</td>\n",
              "      <td>0</td>\n",
              "      <td>6</td>\n",
              "      <td>1</td>\n",
              "      <td>1</td>\n",
              "      <td>0</td>\n",
              "      <td>0</td>\n",
              "      <td>2</td>\n",
              "      <td>0</td>\n",
              "    </tr>\n",
              "    <tr>\n",
              "      <th>United States</th>\n",
              "      <td>20</td>\n",
              "      <td>10</td>\n",
              "      <td>14</td>\n",
              "      <td>14</td>\n",
              "      <td>2</td>\n",
              "      <td>24</td>\n",
              "      <td>46</td>\n",
              "      <td>10</td>\n",
              "      <td>4</td>\n",
              "      <td>8</td>\n",
              "      <td>5</td>\n",
              "      <td>7</td>\n",
              "      <td>23</td>\n",
              "      <td>17</td>\n",
              "    </tr>\n",
              "    <tr>\n",
              "      <th>Uzbekistan</th>\n",
              "      <td>2</td>\n",
              "      <td>0</td>\n",
              "      <td>0</td>\n",
              "      <td>0</td>\n",
              "      <td>0</td>\n",
              "      <td>0</td>\n",
              "      <td>0</td>\n",
              "      <td>0</td>\n",
              "      <td>0</td>\n",
              "      <td>0</td>\n",
              "      <td>0</td>\n",
              "      <td>0</td>\n",
              "      <td>0</td>\n",
              "      <td>0</td>\n",
              "    </tr>\n",
              "    <tr>\n",
              "      <th>Venezuela</th>\n",
              "      <td>1</td>\n",
              "      <td>0</td>\n",
              "      <td>0</td>\n",
              "      <td>0</td>\n",
              "      <td>0</td>\n",
              "      <td>0</td>\n",
              "      <td>0</td>\n",
              "      <td>0</td>\n",
              "      <td>0</td>\n",
              "      <td>0</td>\n",
              "      <td>0</td>\n",
              "      <td>0</td>\n",
              "      <td>0</td>\n",
              "      <td>0</td>\n",
              "    </tr>\n",
              "    <tr>\n",
              "      <th>Zimbabwe</th>\n",
              "      <td>1</td>\n",
              "      <td>0</td>\n",
              "      <td>0</td>\n",
              "      <td>0</td>\n",
              "      <td>0</td>\n",
              "      <td>0</td>\n",
              "      <td>0</td>\n",
              "      <td>0</td>\n",
              "      <td>0</td>\n",
              "      <td>0</td>\n",
              "      <td>0</td>\n",
              "      <td>0</td>\n",
              "      <td>0</td>\n",
              "      <td>0</td>\n",
              "    </tr>\n",
              "  </tbody>\n",
              "</table>\n",
              "<p>83 rows \u00d7 14 columns</p>\n",
              "</div>"
            ],
            "text/plain": [
              "sport          Alpine Skiing  Biathlon  Bobsleigh  Cross-Country  Curling  \\\n",
              "country                                                                     \n",
              "Albania                    2         0          0              0        0   \n",
              "Andorra                    4         1          0              0        0   \n",
              "Armenia                    1         0          0              3        0   \n",
              "Australia                  5         2          6              4        0   \n",
              "Austria                   20         9          6              8        0   \n",
              "...                      ...       ...        ...            ...      ...   \n",
              "Ukraine                    2        11          0              8        0   \n",
              "United States             20        10         14             14        2   \n",
              "Uzbekistan                 2         0          0              0        0   \n",
              "Venezuela                  1         0          0              0        0   \n",
              "Zimbabwe                   1         0          0              0        0   \n",
              "\n",
              "sport          Freestyle Skiing  Ice Hockey  Luge  Nordic Combined  \\\n",
              "country                                                              \n",
              "Albania                       0           0     0                0   \n",
              "Andorra                       0           0     0                0   \n",
              "Armenia                       0           0     0                0   \n",
              "Australia                    21           0     1                0   \n",
              "Austria                      10          25    10                5   \n",
              "...                         ...         ...   ...              ...   \n",
              "Ukraine                       4           0     6                1   \n",
              "United States                24          46    10                4   \n",
              "Uzbekistan                    0           0     0                0   \n",
              "Venezuela                     0           0     0                0   \n",
              "Zimbabwe                      0           0     0                0   \n",
              "\n",
              "sport          Short Track  Skeleton  Ski Jumping  Snowboard  Speed Skating  \n",
              "country                                                                      \n",
              "Albania                  0         0            0          0              0  \n",
              "Andorra                  0         0            0          1              0  \n",
              "Armenia                  0         0            0          0              0  \n",
              "Australia                2         3            0         11              1  \n",
              "Austria                  1         3            7         17              2  \n",
              "...                    ...       ...          ...        ...            ...  \n",
              "Ukraine                  1         0            0          2              0  \n",
              "United States            8         5            7         23             17  \n",
              "Uzbekistan               0         0            0          0              0  \n",
              "Venezuela                0         0            0          0              0  \n",
              "Zimbabwe                 0         0            0          0              0  \n",
              "\n",
              "[83 rows x 14 columns]"
            ]
          },
          "execution_count": 11,
          "metadata": {},
          "output_type": "execute_result"
        }
      ],
      "source": [
        "pd.crosstab(data['country'],data['sport'])"
      ]
    },
    {
      "cell_type": "markdown",
      "metadata": {},
      "source": [
        "Z uporabo pogojev lahko izpi\u0161emo le dolo\u010dene vrstice."
      ]
    },
    {
      "cell_type": "code",
      "execution_count": 12,
      "metadata": {},
      "outputs": [
        {
          "data": {
            "text/html": [
              "<div>\n",
              "<style scoped>\n",
              "    .dataframe tbody tr th:only-of-type {\n",
              "        vertical-align: middle;\n",
              "    }\n",
              "\n",
              "    .dataframe tbody tr th {\n",
              "        vertical-align: top;\n",
              "    }\n",
              "\n",
              "    .dataframe thead th {\n",
              "        text-align: right;\n",
              "    }\n",
              "</style>\n",
              "<table border=\"1\" class=\"dataframe\">\n",
              "  <thead>\n",
              "    <tr style=\"text-align: right;\">\n",
              "      <th></th>\n",
              "      <th>age</th>\n",
              "      <th>birthdate</th>\n",
              "      <th>gender</th>\n",
              "      <th>height</th>\n",
              "      <th>name</th>\n",
              "      <th>weight</th>\n",
              "      <th>gold_medals</th>\n",
              "      <th>silver_medals</th>\n",
              "      <th>bronze_medals</th>\n",
              "      <th>total_medals</th>\n",
              "      <th>sport</th>\n",
              "      <th>country</th>\n",
              "    </tr>\n",
              "  </thead>\n",
              "  <tbody>\n",
              "    <tr>\n",
              "      <th>214</th>\n",
              "      <td>24</td>\n",
              "      <td>1989-06-18</td>\n",
              "      <td>Female</td>\n",
              "      <td>1.65</td>\n",
              "      <td>Anna Fenninger</td>\n",
              "      <td>64</td>\n",
              "      <td>1</td>\n",
              "      <td>1</td>\n",
              "      <td>0</td>\n",
              "      <td>2</td>\n",
              "      <td>Alpine Skiing</td>\n",
              "      <td>Austria</td>\n",
              "    </tr>\n",
              "    <tr>\n",
              "      <th>424</th>\n",
              "      <td>26</td>\n",
              "      <td>1987-07-22</td>\n",
              "      <td>Female</td>\n",
              "      <td>1.62</td>\n",
              "      <td>Charlotte Kalla</td>\n",
              "      <td>59</td>\n",
              "      <td>1</td>\n",
              "      <td>2</td>\n",
              "      <td>0</td>\n",
              "      <td>3</td>\n",
              "      <td>Cross-Country</td>\n",
              "      <td>Sweden</td>\n",
              "    </tr>\n",
              "    <tr>\n",
              "      <th>911</th>\n",
              "      <td>27</td>\n",
              "      <td>1986-04-01</td>\n",
              "      <td>Female</td>\n",
              "      <td>1.68</td>\n",
              "      <td>Irene Wust</td>\n",
              "      <td>63</td>\n",
              "      <td>1</td>\n",
              "      <td>2</td>\n",
              "      <td>0</td>\n",
              "      <td>3</td>\n",
              "      <td>Speed Skating</td>\n",
              "      <td>Netherlands</td>\n",
              "    </tr>\n",
              "    <tr>\n",
              "      <th>1062</th>\n",
              "      <td>33</td>\n",
              "      <td>1980-03-19</td>\n",
              "      <td>Male</td>\n",
              "      <td>1.81</td>\n",
              "      <td>Johan Olsson</td>\n",
              "      <td>68</td>\n",
              "      <td>1</td>\n",
              "      <td>1</td>\n",
              "      <td>0</td>\n",
              "      <td>2</td>\n",
              "      <td>Cross-Country</td>\n",
              "      <td>Sweden</td>\n",
              "    </tr>\n",
              "    <tr>\n",
              "      <th>1407</th>\n",
              "      <td>28</td>\n",
              "      <td>1985-11-25</td>\n",
              "      <td>Male</td>\n",
              "      <td>1.83</td>\n",
              "      <td>Marcus Hellner</td>\n",
              "      <td>75</td>\n",
              "      <td>1</td>\n",
              "      <td>1</td>\n",
              "      <td>0</td>\n",
              "      <td>2</td>\n",
              "      <td>Cross-Country</td>\n",
              "      <td>Sweden</td>\n",
              "    </tr>\n",
              "    <tr>\n",
              "      <th>1419</th>\n",
              "      <td>29</td>\n",
              "      <td>1984-11-24</td>\n",
              "      <td>Female</td>\n",
              "      <td>1.82</td>\n",
              "      <td>Maria Hoefl-riesch</td>\n",
              "      <td>78</td>\n",
              "      <td>1</td>\n",
              "      <td>1</td>\n",
              "      <td>0</td>\n",
              "      <td>2</td>\n",
              "      <td>Alpine Skiing</td>\n",
              "      <td>Germany</td>\n",
              "    </tr>\n",
              "    <tr>\n",
              "      <th>1482</th>\n",
              "      <td>25</td>\n",
              "      <td>1988-09-14</td>\n",
              "      <td>Male</td>\n",
              "      <td>1.85</td>\n",
              "      <td>Martin Fourcade</td>\n",
              "      <td>75</td>\n",
              "      <td>2</td>\n",
              "      <td>1</td>\n",
              "      <td>0</td>\n",
              "      <td>3</td>\n",
              "      <td>Biathlon</td>\n",
              "      <td>France</td>\n",
              "    </tr>\n",
              "    <tr>\n",
              "      <th>2173</th>\n",
              "      <td>17</td>\n",
              "      <td>1997-01-30</td>\n",
              "      <td>Female</td>\n",
              "      <td>1.75</td>\n",
              "      <td>Sukhee Shim</td>\n",
              "      <td>56</td>\n",
              "      <td>1</td>\n",
              "      <td>1</td>\n",
              "      <td>0</td>\n",
              "      <td>2</td>\n",
              "      <td>Short Track</td>\n",
              "      <td>Korea</td>\n",
              "    </tr>\n",
              "    <tr>\n",
              "      <th>2183</th>\n",
              "      <td>27</td>\n",
              "      <td>1986-04-23</td>\n",
              "      <td>Male</td>\n",
              "      <td>1.87</td>\n",
              "      <td>Sven Kramer</td>\n",
              "      <td>83</td>\n",
              "      <td>1</td>\n",
              "      <td>1</td>\n",
              "      <td>0</td>\n",
              "      <td>2</td>\n",
              "      <td>Speed Skating</td>\n",
              "      <td>Netherlands</td>\n",
              "    </tr>\n",
              "  </tbody>\n",
              "</table>\n",
              "</div>"
            ],
            "text/plain": [
              "      age   birthdate  gender  height                name  weight  \\\n",
              "214    24  1989-06-18  Female    1.65      Anna Fenninger      64   \n",
              "424    26  1987-07-22  Female    1.62     Charlotte Kalla      59   \n",
              "911    27  1986-04-01  Female    1.68          Irene Wust      63   \n",
              "1062   33  1980-03-19    Male    1.81        Johan Olsson      68   \n",
              "1407   28  1985-11-25    Male    1.83      Marcus Hellner      75   \n",
              "1419   29  1984-11-24  Female    1.82  Maria Hoefl-riesch      78   \n",
              "1482   25  1988-09-14    Male    1.85     Martin Fourcade      75   \n",
              "2173   17  1997-01-30  Female    1.75         Sukhee Shim      56   \n",
              "2183   27  1986-04-23    Male    1.87         Sven Kramer      83   \n",
              "\n",
              "      gold_medals  silver_medals  bronze_medals  total_medals          sport  \\\n",
              "214             1              1              0             2  Alpine Skiing   \n",
              "424             1              2              0             3  Cross-Country   \n",
              "911             1              2              0             3  Speed Skating   \n",
              "1062            1              1              0             2  Cross-Country   \n",
              "1407            1              1              0             2  Cross-Country   \n",
              "1419            1              1              0             2  Alpine Skiing   \n",
              "1482            2              1              0             3       Biathlon   \n",
              "2173            1              1              0             2    Short Track   \n",
              "2183            1              1              0             2  Speed Skating   \n",
              "\n",
              "          country  \n",
              "214       Austria  \n",
              "424        Sweden  \n",
              "911   Netherlands  \n",
              "1062       Sweden  \n",
              "1407       Sweden  \n",
              "1419      Germany  \n",
              "1482       France  \n",
              "2173        Korea  \n",
              "2183  Netherlands  "
            ]
          },
          "execution_count": 12,
          "metadata": {},
          "output_type": "execute_result"
        }
      ],
      "source": [
        "subset = data[(data['gold_medals'] > 0 ) & (data['silver_medals'] > 0 )]\n",
        "subset"
      ]
    },
    {
      "cell_type": "markdown",
      "metadata": {},
      "source": [
        "Na tabeli lahko uporabimo tudi zdru\u017eevalne in agregatne funkcije.\n",
        "Koliko zlatih, srebrnih, bronastih medalj je zmagala posamezna dr\u017eava?"
      ]
    },
    {
      "cell_type": "code",
      "execution_count": 13,
      "metadata": {},
      "outputs": [
        {
          "data": {
            "text/html": [
              "<div>\n",
              "<style scoped>\n",
              "    .dataframe tbody tr th:only-of-type {\n",
              "        vertical-align: middle;\n",
              "    }\n",
              "\n",
              "    .dataframe tbody tr th {\n",
              "        vertical-align: top;\n",
              "    }\n",
              "\n",
              "    .dataframe thead th {\n",
              "        text-align: right;\n",
              "    }\n",
              "</style>\n",
              "<table border=\"1\" class=\"dataframe\">\n",
              "  <thead>\n",
              "    <tr style=\"text-align: right;\">\n",
              "      <th></th>\n",
              "      <th>gold_medals</th>\n",
              "      <th>silver_medals</th>\n",
              "      <th>bronze_medals</th>\n",
              "    </tr>\n",
              "    <tr>\n",
              "      <th>country</th>\n",
              "      <th></th>\n",
              "      <th></th>\n",
              "      <th></th>\n",
              "    </tr>\n",
              "  </thead>\n",
              "  <tbody>\n",
              "    <tr>\n",
              "      <th>Albania</th>\n",
              "      <td>0</td>\n",
              "      <td>0</td>\n",
              "      <td>0</td>\n",
              "    </tr>\n",
              "    <tr>\n",
              "      <th>Andorra</th>\n",
              "      <td>0</td>\n",
              "      <td>0</td>\n",
              "      <td>0</td>\n",
              "    </tr>\n",
              "    <tr>\n",
              "      <th>Armenia</th>\n",
              "      <td>0</td>\n",
              "      <td>0</td>\n",
              "      <td>0</td>\n",
              "    </tr>\n",
              "    <tr>\n",
              "      <th>Australia</th>\n",
              "      <td>0</td>\n",
              "      <td>2</td>\n",
              "      <td>1</td>\n",
              "    </tr>\n",
              "    <tr>\n",
              "      <th>Austria</th>\n",
              "      <td>1</td>\n",
              "      <td>10</td>\n",
              "      <td>1</td>\n",
              "    </tr>\n",
              "    <tr>\n",
              "      <th>...</th>\n",
              "      <td>...</td>\n",
              "      <td>...</td>\n",
              "      <td>...</td>\n",
              "    </tr>\n",
              "    <tr>\n",
              "      <th>Ukraine</th>\n",
              "      <td>0</td>\n",
              "      <td>0</td>\n",
              "      <td>1</td>\n",
              "    </tr>\n",
              "    <tr>\n",
              "      <th>United States</th>\n",
              "      <td>4</td>\n",
              "      <td>4</td>\n",
              "      <td>10</td>\n",
              "    </tr>\n",
              "    <tr>\n",
              "      <th>Uzbekistan</th>\n",
              "      <td>0</td>\n",
              "      <td>0</td>\n",
              "      <td>0</td>\n",
              "    </tr>\n",
              "    <tr>\n",
              "      <th>Venezuela</th>\n",
              "      <td>0</td>\n",
              "      <td>0</td>\n",
              "      <td>0</td>\n",
              "    </tr>\n",
              "    <tr>\n",
              "      <th>Zimbabwe</th>\n",
              "      <td>0</td>\n",
              "      <td>0</td>\n",
              "      <td>0</td>\n",
              "    </tr>\n",
              "  </tbody>\n",
              "</table>\n",
              "<p>83 rows \u00d7 3 columns</p>\n",
              "</div>"
            ],
            "text/plain": [
              "               gold_medals  silver_medals  bronze_medals\n",
              "country                                                 \n",
              "Albania                  0              0              0\n",
              "Andorra                  0              0              0\n",
              "Armenia                  0              0              0\n",
              "Australia                0              2              1\n",
              "Austria                  1             10              1\n",
              "...                    ...            ...            ...\n",
              "Ukraine                  0              0              1\n",
              "United States            4              4             10\n",
              "Uzbekistan               0              0              0\n",
              "Venezuela                0              0              0\n",
              "Zimbabwe                 0              0              0\n",
              "\n",
              "[83 rows x 3 columns]"
            ]
          },
          "execution_count": 13,
          "metadata": {},
          "output_type": "execute_result"
        }
      ],
      "source": [
        "medals_by_country = data[['country', 'gold_medals', 'silver_medals', 'bronze_medals']].groupby('country').sum()\n",
        "medals_by_country"
      ]
    },
    {
      "cell_type": "markdown",
      "metadata": {},
      "source": [
        "Isto lahko dose\u017eemo s funkcijo aggregate()."
      ]
    },
    {
      "cell_type": "code",
      "execution_count": 14,
      "metadata": {},
      "outputs": [
        {
          "data": {
            "text/html": [
              "<div>\n",
              "<style scoped>\n",
              "    .dataframe tbody tr th:only-of-type {\n",
              "        vertical-align: middle;\n",
              "    }\n",
              "\n",
              "    .dataframe tbody tr th {\n",
              "        vertical-align: top;\n",
              "    }\n",
              "\n",
              "    .dataframe thead th {\n",
              "        text-align: right;\n",
              "    }\n",
              "</style>\n",
              "<table border=\"1\" class=\"dataframe\">\n",
              "  <thead>\n",
              "    <tr style=\"text-align: right;\">\n",
              "      <th></th>\n",
              "      <th>gold_medals</th>\n",
              "      <th>silver_medals</th>\n",
              "      <th>bronze_medals</th>\n",
              "    </tr>\n",
              "    <tr>\n",
              "      <th>country</th>\n",
              "      <th></th>\n",
              "      <th></th>\n",
              "      <th></th>\n",
              "    </tr>\n",
              "  </thead>\n",
              "  <tbody>\n",
              "    <tr>\n",
              "      <th>Albania</th>\n",
              "      <td>0</td>\n",
              "      <td>0</td>\n",
              "      <td>0</td>\n",
              "    </tr>\n",
              "    <tr>\n",
              "      <th>Andorra</th>\n",
              "      <td>0</td>\n",
              "      <td>0</td>\n",
              "      <td>0</td>\n",
              "    </tr>\n",
              "    <tr>\n",
              "      <th>Armenia</th>\n",
              "      <td>0</td>\n",
              "      <td>0</td>\n",
              "      <td>0</td>\n",
              "    </tr>\n",
              "    <tr>\n",
              "      <th>Australia</th>\n",
              "      <td>0</td>\n",
              "      <td>2</td>\n",
              "      <td>1</td>\n",
              "    </tr>\n",
              "    <tr>\n",
              "      <th>Austria</th>\n",
              "      <td>1</td>\n",
              "      <td>10</td>\n",
              "      <td>1</td>\n",
              "    </tr>\n",
              "    <tr>\n",
              "      <th>...</th>\n",
              "      <td>...</td>\n",
              "      <td>...</td>\n",
              "      <td>...</td>\n",
              "    </tr>\n",
              "    <tr>\n",
              "      <th>Ukraine</th>\n",
              "      <td>0</td>\n",
              "      <td>0</td>\n",
              "      <td>1</td>\n",
              "    </tr>\n",
              "    <tr>\n",
              "      <th>United States</th>\n",
              "      <td>4</td>\n",
              "      <td>4</td>\n",
              "      <td>10</td>\n",
              "    </tr>\n",
              "    <tr>\n",
              "      <th>Uzbekistan</th>\n",
              "      <td>0</td>\n",
              "      <td>0</td>\n",
              "      <td>0</td>\n",
              "    </tr>\n",
              "    <tr>\n",
              "      <th>Venezuela</th>\n",
              "      <td>0</td>\n",
              "      <td>0</td>\n",
              "      <td>0</td>\n",
              "    </tr>\n",
              "    <tr>\n",
              "      <th>Zimbabwe</th>\n",
              "      <td>0</td>\n",
              "      <td>0</td>\n",
              "      <td>0</td>\n",
              "    </tr>\n",
              "  </tbody>\n",
              "</table>\n",
              "<p>83 rows \u00d7 3 columns</p>\n",
              "</div>"
            ],
            "text/plain": [
              "               gold_medals  silver_medals  bronze_medals\n",
              "country                                                 \n",
              "Albania                  0              0              0\n",
              "Andorra                  0              0              0\n",
              "Armenia                  0              0              0\n",
              "Australia                0              2              1\n",
              "Austria                  1             10              1\n",
              "...                    ...            ...            ...\n",
              "Ukraine                  0              0              1\n",
              "United States            4              4             10\n",
              "Uzbekistan               0              0              0\n",
              "Venezuela                0              0              0\n",
              "Zimbabwe                 0              0              0\n",
              "\n",
              "[83 rows x 3 columns]"
            ]
          },
          "execution_count": 14,
          "metadata": {},
          "output_type": "execute_result"
        }
      ],
      "source": [
        "medals_by_country = data[['country', 'gold_medals', 'silver_medals', 'bronze_medals']].groupby('country').aggregate('sum')\n",
        "medals_by_country"
      ]
    },
    {
      "cell_type": "markdown",
      "metadata": {},
      "source": [
        "Ali z njenim aliasom agg()"
      ]
    },
    {
      "cell_type": "code",
      "execution_count": 15,
      "metadata": {},
      "outputs": [
        {
          "data": {
            "text/html": [
              "<div>\n",
              "<style scoped>\n",
              "    .dataframe tbody tr th:only-of-type {\n",
              "        vertical-align: middle;\n",
              "    }\n",
              "\n",
              "    .dataframe tbody tr th {\n",
              "        vertical-align: top;\n",
              "    }\n",
              "\n",
              "    .dataframe thead th {\n",
              "        text-align: right;\n",
              "    }\n",
              "</style>\n",
              "<table border=\"1\" class=\"dataframe\">\n",
              "  <thead>\n",
              "    <tr style=\"text-align: right;\">\n",
              "      <th></th>\n",
              "      <th>gold_medals</th>\n",
              "      <th>silver_medals</th>\n",
              "      <th>bronze_medals</th>\n",
              "    </tr>\n",
              "    <tr>\n",
              "      <th>country</th>\n",
              "      <th></th>\n",
              "      <th></th>\n",
              "      <th></th>\n",
              "    </tr>\n",
              "  </thead>\n",
              "  <tbody>\n",
              "    <tr>\n",
              "      <th>Albania</th>\n",
              "      <td>0</td>\n",
              "      <td>0</td>\n",
              "      <td>0</td>\n",
              "    </tr>\n",
              "    <tr>\n",
              "      <th>Andorra</th>\n",
              "      <td>0</td>\n",
              "      <td>0</td>\n",
              "      <td>0</td>\n",
              "    </tr>\n",
              "    <tr>\n",
              "      <th>Armenia</th>\n",
              "      <td>0</td>\n",
              "      <td>0</td>\n",
              "      <td>0</td>\n",
              "    </tr>\n",
              "    <tr>\n",
              "      <th>Australia</th>\n",
              "      <td>0</td>\n",
              "      <td>2</td>\n",
              "      <td>1</td>\n",
              "    </tr>\n",
              "    <tr>\n",
              "      <th>Austria</th>\n",
              "      <td>1</td>\n",
              "      <td>10</td>\n",
              "      <td>1</td>\n",
              "    </tr>\n",
              "    <tr>\n",
              "      <th>...</th>\n",
              "      <td>...</td>\n",
              "      <td>...</td>\n",
              "      <td>...</td>\n",
              "    </tr>\n",
              "    <tr>\n",
              "      <th>Ukraine</th>\n",
              "      <td>0</td>\n",
              "      <td>0</td>\n",
              "      <td>1</td>\n",
              "    </tr>\n",
              "    <tr>\n",
              "      <th>United States</th>\n",
              "      <td>4</td>\n",
              "      <td>4</td>\n",
              "      <td>10</td>\n",
              "    </tr>\n",
              "    <tr>\n",
              "      <th>Uzbekistan</th>\n",
              "      <td>0</td>\n",
              "      <td>0</td>\n",
              "      <td>0</td>\n",
              "    </tr>\n",
              "    <tr>\n",
              "      <th>Venezuela</th>\n",
              "      <td>0</td>\n",
              "      <td>0</td>\n",
              "      <td>0</td>\n",
              "    </tr>\n",
              "    <tr>\n",
              "      <th>Zimbabwe</th>\n",
              "      <td>0</td>\n",
              "      <td>0</td>\n",
              "      <td>0</td>\n",
              "    </tr>\n",
              "  </tbody>\n",
              "</table>\n",
              "<p>83 rows \u00d7 3 columns</p>\n",
              "</div>"
            ],
            "text/plain": [
              "               gold_medals  silver_medals  bronze_medals\n",
              "country                                                 \n",
              "Albania                  0              0              0\n",
              "Andorra                  0              0              0\n",
              "Armenia                  0              0              0\n",
              "Australia                0              2              1\n",
              "Austria                  1             10              1\n",
              "...                    ...            ...            ...\n",
              "Ukraine                  0              0              1\n",
              "United States            4              4             10\n",
              "Uzbekistan               0              0              0\n",
              "Venezuela                0              0              0\n",
              "Zimbabwe                 0              0              0\n",
              "\n",
              "[83 rows x 3 columns]"
            ]
          },
          "execution_count": 15,
          "metadata": {},
          "output_type": "execute_result"
        }
      ],
      "source": [
        "medals_by_country = data[['country', 'gold_medals', 'silver_medals', 'bronze_medals']].groupby('country').agg('sum')\n",
        "medals_by_country"
      ]
    }
  ],
  "metadata": {
    "kernelspec": {
      "display_name": "PRvaje",
      "language": "python",
      "name": "python3"
    },
    "language_info": {
      "codemirror_mode": {
        "name": "ipython",
        "version": 3
      },
      "file_extension": ".py",
      "mimetype": "text/x-python",
      "name": "python",
      "nbconvert_exporter": "python",
      "pygments_lexer": "ipython3",
      "version": "3.11.8"
    },
    "latex_envs": {
      "LaTeX_envs_menu_present": true,
      "autocomplete": true,
      "bibliofile": "biblio.bib",
      "cite_by": "apalike",
      "current_citInitial": 1,
      "eqLabelWithNumbers": true,
      "eqNumInitial": 1,
      "hotkeys": {
        "equation": "Ctrl-E",
        "itemize": "Ctrl-I"
      },
      "labels_anchors": false,
      "latex_user_defs": false,
      "report_style_numbering": false,
      "user_envs_cfg": false
    },
    "nbTranslate": {
      "displayLangs": [
        "*"
      ],
      "hotkey": "alt-t",
      "langInMainMenu": true,
      "sourceLang": "sl",
      "targetLang": "en",
      "useGoogleTranslate": true
    },
    "toc": {
      "nav_menu": {},
      "number_sections": true,
      "sideBar": true,
      "skip_h1_title": false,
      "toc_cell": false,
      "toc_position": {},
      "toc_section_display": "block",
      "toc_window_display": false
    }
  },
  "nbformat": 4,
  "nbformat_minor": 4
}