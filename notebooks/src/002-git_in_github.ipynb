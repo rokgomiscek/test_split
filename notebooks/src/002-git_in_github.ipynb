{
  "cells": [
    {
      "cell_type": "markdown",
      "metadata": {
        "tags": [
          "sl"
        ]
      },
      "source": [
        "## Git in GitHub"
      ]
    },
    {
      "cell_type": "markdown",
      "metadata": {
        "tags": [
          "en"
        ]
      },
      "source": [
        "## Git and GitHub"
      ]
    },
    {
      "cell_type": "markdown",
      "metadata": {
        "tags": [
          "sl"
        ]
      },
      "source": [
        "Git je sistem za upravljanje z različicami (Version Control System - VCS). Uporablja se ga tako za sodelovanje med razvijalci, kot za nadzor nad lastnim delom. Git upravlja z datotekami v repozitoriju - mapa, kjer se hrani zgodovina sprememb.\n",
        "\n",
        "[GitHub](https://github.com) je spletna paltforma za gostovanje Git repozitorijev in omogoča sodelovanje več ljudi na istem projektu. Če še nimate uporabniškega računa, si ga ustvarite.\n",
        "\n",
        "Več o osnovah Gita in GitHuba si lahko preberete na https://guides.github.com/"
      ]
    },
    {
      "cell_type": "markdown",
      "metadata": {
        "tags": [
          "en"
        ]
      },
      "source": [
        "Git is a Version Control System (VCS). It can bed used for both collaboration between developers and for controlling one's own work. Git manages the files in a repository - and keeps track of the change history.\n",
        "\n",
        "[GitHub](https://github.com) is a web-based paltform for hosting Git repositories. It enables many developers participating on the same project. If you don't yet have an user account, create one.\n",
        "\n",
        "You can read more about Git and Github at https://guides.github.com/"
      ]
    },
    {
      "cell_type": "markdown",
      "metadata": {
        "tags": [
          "sl"
        ]
      },
      "source": [
        "### Nekaj osnovnih Git ukazov"
      ]
    },
    {
      "cell_type": "markdown",
      "metadata": {
        "tags": [
          "en"
        ]
      },
      "source": [
        "### Some basic Git commands"
      ]
    },
    {
      "cell_type": "markdown",
      "metadata": {
        "tags": [
          "sl"
        ]
      },
      "source": [
        "* `git init`: inicializira nov repozitorij v izbrani mapi\n",
        "* `git clone`: na disk skopiramo vsebino oddaljenega repozitorija\n",
        "* `git add ime_datoteke`: doda določeno datoteko\n",
        "    * `git add .`: doda vse datoteke\n",
        "    * `git add *.ipynb`: doda vse ipynb datoteke\n",
        "* `git rm ime_datoteke`: izbriše določeno datoteko\n",
        "* `git commit -m \"sporočilo\"`: ukaz, s katerim shranimo izbrane datoteteke\n",
        "    * `git commit --amend`: doda spremembe k zadnjemu commitu\n",
        "* `git status`: ukaz, ki nam pokaže, katere datoteke so bile spremenjene in katere spremenjene datoteke bomo shranili\n",
        "* `git pull`: osvežimo lokalni repozitorij s spremembani na oddaljenem repozitoriju\n",
        "* `git push`: pošljemo svoje spremembe na oddaljen repozitorij\n",
        "* `git branch ime_veje`: pokaže lokalne veje ali jih ustvari\n",
        "* `git switch ime_veje`: zamenja vejo\n",
        "* `git merge ime_veje`: združevanje dveh vej\n",
        "\n",
        "Celoten seznam ukazov in njihovih parametrov je dosegljiv na https://git-scm.com/docs."
      ]
    },
    {
      "cell_type": "markdown",
      "metadata": {
        "tags": [
          "en"
        ]
      },
      "source": [
        "* `git init`: initializes a new repository in the selected folder\n",
        "* `git clone`: copy the contents of the remote repository to the disk\n",
        "* `git add file_name`: adds a specified file\n",
        "    * `git add .`: adds all files\n",
        "    * `git add *.ipynb`: adds all ipynb files\n",
        "* `git rm file_name`: removes a specified file\n",
        "* `git commit -m 'message` `: the command to save the selected files\n",
        "    * `git commit --amend`: adds changes to the last commit\n",
        "* `git status`: shows which files have been modified and which modified files will be saved\n",
        "* `git pull`: refresh the local repository with changes to the remote repository\n",
        "* `git push`: send changes to the remote repository\n",
        "* `git branch branch_name`: shows the local branches or creates them,\n",
        "* `git switch branch_name`: changes the active branch\n",
        "* `git merge branch_name`: merges changes between two branches\n",
        "\n",
        "A complete list of commands and parameters is available at https://git-scm.com/docs."
      ]
    },
    {
      "cell_type": "markdown",
      "metadata": {
        "tags": [
          "sl"
        ]
      },
      "source": [
        "### Namestitev"
      ]
    },
    {
      "cell_type": "markdown",
      "metadata": {
        "tags": [
          "en"
        ]
      },
      "source": [
        "### Installation"
      ]
    },
    {
      "cell_type": "markdown",
      "metadata": {
        "tags": [
          "sl"
        ]
      },
      "source": [
        "Ob namestitvi Gita na Windows izberite opcijo **Enable symbolic links**."
      ]
    },
    {
      "cell_type": "markdown",
      "metadata": {
        "tags": [
          "en"
        ]
      },
      "source": [
        "When installing Git on Windows, select the option **Enable symbolic links**."
      ]
    }
  ],
  "metadata": {
    "kernelspec": {
      "display_name": "Python 3 (ipykernel)",
      "language": "python",
      "name": "python3"
    },
    "language_info": {
      "codemirror_mode": {
        "name": "ipython",
        "version": 3
      },
      "file_extension": ".py",
      "mimetype": "text/x-python",
      "name": "python",
      "nbconvert_exporter": "python",
      "pygments_lexer": "ipython3",
      "version": "3.11.7"
    },
    "latex_envs": {
      "LaTeX_envs_menu_present": true,
      "autocomplete": true,
      "bibliofile": "biblio.bib",
      "cite_by": "apalike",
      "current_citInitial": 1,
      "eqLabelWithNumbers": true,
      "eqNumInitial": 1,
      "hotkeys": {
        "equation": "Ctrl-E",
        "itemize": "Ctrl-I"
      },
      "labels_anchors": false,
      "latex_user_defs": false,
      "report_style_numbering": false,
      "user_envs_cfg": false
    },
    "nbTranslate": {
      "displayLangs": [
        "sl"
      ],
      "hotkey": "alt-t",
      "langInMainMenu": true,
      "sourceLang": "sl",
      "targetLang": "en",
      "useGoogleTranslate": true
    }
  },
  "nbformat": 4,
  "nbformat_minor": 4
}
