{
 "cells": [
  {
   "cell_type": "markdown",
   "metadata": {
    "lang": "sl"
   },
   "source": [
    "## Primer: iskanje neslanih šal"
   ]
  },
  {
   "cell_type": "markdown",
   "metadata": {
    "lang": "en"
   },
   "source": [
    "## Example: finding unfunny jokes"
   ]
  },
  {
   "cell_type": "markdown",
   "metadata": {
    "lang": "sl"
   },
   "source": [
    "Tokrat si bomo ogledali zbirko podatkov Jester, ki je dokaj podobna tisti pri domači nalogi. Gre za zbirko 100 šal (vicev), ki jih je ocenilo 23500 uporabnikov z oceno $-10$ (porazno) do $10$ (odlično). Ocena je torej zvezna spremenljivka. \n",
    "\n",
    "Naš glavni cilj bo modeliranje statistik v podatkovni zbirki z uporabo znanih porazdelitev. To nam bo omogočalo, da  **med šalami poiščemo osamelce** in ocenimo njihovo statistično značilnost - verjetnost, da gre za osamelca ali ne. \n",
    "\n",
    "\n",
    "Začnimo z naključno šalo iz podatkovne zbirke:\n",
    "\n",
    "``A mechanical, electrical and a software engineer from Microsoft were driving through the desert when the car broke down. The mechanical engineer said \"It seems to be a problem with the fuel injection system, why don't we pop the hood and I'll take a look at it.\" To which the electrical engineer replied, \"No I think it's just a loose ground wire, I'll get out and take a look.\" Then, the Microsoft engineer jumps in. \"No, no, no. If we just close up all the windows, get out, wait a few minutes, get back in, and then reopen the windows everything will work fine.\"``"
   ]
  },
  {
   "cell_type": "markdown",
   "metadata": {
    "lang": "en"
   },
   "source": [
    "This time we will look at the Jester dataset, which is quite similar to that of the homework. It is a collection of 100 jokes rated by 23,500 users with a rating of $-10$ (disastrous) to $10$ (excellent). The assessment is therefore a continuous variable.\n",
    "\n",
    "Our main goal will be to model statistics in a dataset using known distributions. This will allow us to find **outliers among the jokes** and evaluate their statistical significance - the likelihood that it is an outlier or not.\n",
    "\n",
    "\n",
    "Let's start with a random joke from the dataset:\n",
    "\n",
    "``A mechanical, electrical and a software engineer from Microsoft were driving through the desert when the car broke down. The mechanical engineer said \"It seems to be a problem with the fuel injection system, why don't we pop the hood and I'll take a look at it.\" To which the electrical engineer replied, \"No I think it's just a loose ground wire, I'll get out and take a look.\" Then, the Microsoft engineer jumps in. \"No, no, no. If we just close up all the windows, get out, wait a few minutes, get back in, and then reopen the windows everything will work fine.\"``"
   ]
  },
  {
   "cell_type": "code",
   "execution_count": 1,
   "metadata": {},
   "outputs": [],
   "source": [
    "%matplotlib inline\n",
    "%config InlineBackend.figure_formats = ['jpg']\n",
    "import matplotlib\n",
    "matplotlib.figure.Figure.__repr__ = lambda self: (\n",
    "    f\"<{self.__class__.__name__} size {self.bbox.size[0]:g}\"\n",
    "    f\"x{self.bbox.size[1]:g} with {len(self.axes)} Axes>\")\n",
    "\n",
    "import matplotlib.pyplot as plt\n",
    "plt.style.use('PR.mplstyle')\n",
    "import numpy as np"
   ]
  },
  {
   "cell_type": "markdown",
   "metadata": {
    "lang": "sl"
   },
   "source": [
    "Podatki so matrika velikosti $23500 \\times 100$ z zveznimi vrednosti. Vrednost $99$ predstavlja neznano vrednost, takih vrednosti zato ne smemo upoštevati."
   ]
  },
  {
   "cell_type": "markdown",
   "metadata": {
    "lang": "en"
   },
   "source": [
    "The data is a matrix of magnitude $23500 \\times 100$ with continuous values. The value of $99$ represents an unknown value; therefore, such values ​​must not be taken into account."
   ]
  },
  {
   "cell_type": "code",
   "execution_count": 2,
   "metadata": {},
   "outputs": [
    {
     "name": "stdout",
     "output_type": "stream",
     "text": [
      "velikost: (23500, 100)\n",
      "skupno število ocen: 1708993\n"
     ]
    }
   ],
   "source": [
    "X = np.genfromtxt('podatki/jester-data.csv', delimiter=',',)[:, 1:]\n",
    "X[np.where(X == 99)] = float(\"nan\")  # neznanih vrednosti ne smemo upoštevati\n",
    "\n",
    "print(\"velikost:\", X.shape)\n",
    "print(\"skupno število ocen:\", X.size - np.sum(np.isnan(X)))"
   ]
  },
  {
   "cell_type": "markdown",
   "metadata": {
    "lang": "sl"
   },
   "source": [
    "Poglejmo, kakšna je porazdelitev vseh veljavnih ocen."
   ]
  },
  {
   "cell_type": "markdown",
   "metadata": {
    "lang": "en"
   },
   "source": [
    "Let's see what is the distribution of all valid ratings."
   ]
  },
  {
   "cell_type": "code",
   "execution_count": 3,
   "metadata": {},
   "outputs": [
    {
     "data": {
      "image/jpeg": "[encoded data removed]",
      "text/plain": [
       "<Figure size 450x300 with 1 Axes>"
      ]
     },
     "metadata": {},
     "output_type": "display_data"
    }
   ],
   "source": [
    "data = X[np.isnan(X) == False]\n",
    "plt.hist(data, bins=100)\n",
    "plt.xlabel(\"x - Ocena šale\")\n",
    "plt.ylabel(\"P(x)\");"
   ]
  },
  {
   "cell_type": "markdown",
   "metadata": {
    "lang": "sl"
   },
   "source": [
    "Vidimo, da je večina ocen nevtralnih (okoli 0), veliko pozitivnih (med 3 in 10) ter nekaj zelo slabih (-10). Najmanj je srednje slabih (-9 do -1). Navkljub temu ima ta porazdelitev naslednje težave:\n",
    " * Vzorec ni nepristranski. Vsak uporabnik je ocenil različno število šal.\n",
    " * Porazdelitev ne spominja na nobeno od znanih.\n",
    "\n",
    "Kako bi primerjali šale glede na njihove ocene?"
   ]
  },
  {
   "cell_type": "markdown",
   "metadata": {
    "lang": "en"
   },
   "source": [
    "We see that most ratings are neutral (around 0), many positive (between 3 and 10) and some very bad (-10). The least is the average bad (-9 to -1). Nevertheless, this distribution has the following problems:\n",
    "* The sample is not impartial. Each user rated a different number of jokes.\n",
    "* The distribution does not look like any of the known.\n",
    "\n",
    "How would you compare the jokes with respect to their grades?"
   ]
  },
  {
   "cell_type": "markdown",
   "metadata": {
    "lang": "sl"
   },
   "source": [
    "Poglejmo najprej, koliko veljavnih ocen je prejela vsaka od šala:"
   ]
  },
  {
   "cell_type": "markdown",
   "metadata": {
    "lang": "en"
   },
   "source": [
    "Let's first look at how many valid ratings each joke received:"
   ]
  },
  {
   "cell_type": "code",
   "execution_count": 4,
   "metadata": {},
   "outputs": [
    {
     "data": {
      "text/plain": [
       "array([15507, 16954, 15755, 14901, 23498, 19154, 23497, 23497, 14988,\n",
       "       18943, 20480, 21019, 23499, 21205, 23499, 23497, 23499, 23497,\n",
       "       23497, 23498, 23471, 20177, 18706, 15188, 19502, 22383, 23438,\n",
       "       22551, 23467, 17002, 23204, 23481, 15774, 20372, 23486, 23499,\n",
       "       15941, 21481, 21870, 21039, 17599, 23202, 16656, 15472, 19974,\n",
       "       22208, 20875, 23333, 23492, 23499, 17795, 18752, 23498, 23240,\n",
       "       18589, 23328, 15212, 14913, 17212, 16814, 23401, 23461, 18927,\n",
       "       16439, 23304, 23458, 16576, 23459, 23446, 19100,  8164,  8288,\n",
       "        8231,  8392,  8393,  8513,  8551,  8494,  8586,  8643,  8712,\n",
       "        8799,  8865,  8892,  9054,  9057,  8953,  9148,  9098,  9309,\n",
       "        9314,  9432,  9530,  9660,  9756,  9890, 10082, 10180, 10310,\n",
       "        9547])"
      ]
     },
     "execution_count": 4,
     "metadata": {},
     "output_type": "execute_result"
    }
   ],
   "source": [
    "(np.isnan(X) == False).sum(axis=0)  # vsota po posameznih šalah"
   ]
  },
  {
   "cell_type": "markdown",
   "metadata": {
    "lang": "sl"
   },
   "source": [
    "Vsaka šala je dobila nekaj tisoč ocen, kar zadostuje za statistično primerjavo."
   ]
  },
  {
   "cell_type": "markdown",
   "metadata": {
    "lang": "en"
   },
   "source": [
    "Each joke received a few thousand ratings, which is sufficient for a statistical comparison."
   ]
  },
  {
   "cell_type": "markdown",
   "metadata": {
    "lang": "sl"
   },
   "source": [
    "Zamislimo si dve novi naključni spremenljivki:\n",
    "    \n",
    "* $X$ povprečje ocen posamezne šale,\n",
    "* $Y$ varianca ocen posamezne šale.\n",
    "\n",
    "**Pomembno:** spremenljivki sta izpeljani iz dveh izračunljivih količih. Spremenljivki $X$ in $Y$ nista parametra normalne porazdelitve!\n",
    "\n",
    "Za vsako od navedenih spremenljivk $X$ in $Y$ imamo torej vzorec velikosti 100, po en primer za vsako šalo. Pri izračunu pazimo, da preskočimo neznane vrednosti:"
   ]
  },
  {
   "cell_type": "markdown",
   "metadata": {
    "lang": "en"
   },
   "source": [
    "Let's imagine two new random variables:\n",
    "    \n",
    "* $X$ is the average of individual jokes,\n",
    "* $Y$ is the variance of individual jokes.\n",
    "\n",
    "**Important:** The variables are derived from two calculated quantities. The variables $X$ and $Y$ are not parameters of normal distribution!\n",
    "\n",
    "For each of these variables $X$ and $Y$ we have a sample size of 100, one case for each joke. In calculating, we should skip the unknown values:"
   ]
  },
  {
   "cell_type": "code",
   "execution_count": 5,
   "metadata": {},
   "outputs": [],
   "source": [
    "means     = []\n",
    "variances = []\n",
    "for i in range(X.shape[1]):\n",
    "    s = np.mean(X[:, i][np.isnan(X[:, i]) == False])\n",
    "    v = np.var(X[:, i][np.isnan(X[:, i]) == False])\n",
    "    means.append(s)\n",
    "    variances.append(v)"
   ]
  },
  {
   "cell_type": "markdown",
   "metadata": {
    "lang": "sl"
   },
   "source": [
    "##### Vprašanje 3-2-1\n",
    "\n",
    "Kakšna je interpretacija spremeljivk $X$ in $Y$? Kaj pomeni, če ima šala visoko varianco med vsemi ocenami? Kaj pomeni, če ima šala visoko povprečno oceno?"
   ]
  },
  {
   "cell_type": "markdown",
   "metadata": {
    "lang": "en"
   },
   "source": [
    "##### Question 3-2-1\n",
    "\n",
    "What is the interpretation of $X$ and $Y$? What does it mean if the joke has a high variance among all ratings? What does it mean if a joke has a high average rating?"
   ]
  },
  {
   "cell_type": "markdown",
   "metadata": {},
   "source": []
  },
  {
   "cell_type": "markdown",
   "metadata": {
    "lang": "sl"
   },
   "source": [
    "[Odgovor](203-2.ipynb#Odgovor-3-2-1)"
   ]
  },
  {
   "cell_type": "markdown",
   "metadata": {
    "lang": "en"
   },
   "source": [
    "[Answer](203-2.ipynb#Answer-3-2-1)"
   ]
  },
  {
   "cell_type": "markdown",
   "metadata": {
    "lang": "sl"
   },
   "source": [
    "Izpišimo nekaj najbolje, najslabše ocenjenih šal ter nekaj takih z visoko oz. nizko varianco. Za zabavo jih lahko prebereš in primerjaš, n. pr., odpri datoteko ``podatki/jokes/init1.html``:\n",
    "\n",
    "``A man visits the doctor. The doctor says \"I have bad news for you. You have\n",
    "cancer and Alzheimer's disease\". The man replies \"Well, thank God I don't have cancer!\"``"
   ]
  },
  {
   "cell_type": "markdown",
   "metadata": {
    "lang": "en"
   },
   "source": [
    "Let's write out some of the best, worst rated jokes, and some with a high and low variance. You can read and compare them for fun, e.g., open the file ``podatki/jokes/init1.html``:\n",
    "\n",
    "``A man visits the doctor. The doctor says \"I have bad news for you. You have\n",
    "cancer and Alzheimer's disease\". The man replies \"Well, thank God I don't have cancer!\"``"
   ]
  },
  {
   "cell_type": "code",
   "execution_count": 6,
   "metadata": {},
   "outputs": [
    {
     "name": "stdout",
     "output_type": "stream",
     "text": [
      "Kriterij: Povprečje (X)\n",
      "\tSpodnjih 3:\n",
      "\t\tšala 58, povp.: -3.57, var.: 26.56\n",
      "\t\tšala 16, povp.: -2.89, var.: 25.60\n",
      "\t\tšala 15, povp.: -2.18, var.: 26.20\n",
      "\tZgornjih 3:\n",
      "\t\tšala 89, povp.: 3.46, var.: 24.32\n",
      "\t\tšala 50, povp.: 3.45, var.: 19.06\n",
      "\t\tšala 32, povp.: 3.00, var.: 21.28\n",
      "\n",
      "Kriterij: Varianca (Y)\n",
      "\tSpodnjih 3:\n",
      "\t\tšala 50, povp.: 3.45, var.: 19.06\n",
      "\t\tšala 17, povp.: -1.19, var.: 19.47\n",
      "\t\tšala 36, povp.: 2.92, var.: 20.37\n",
      "\tZgornjih 3:\n",
      "\t\tšala 71, povp.: -0.98, var.: 34.07\n",
      "\t\tšala 2, povp.: 0.10, var.: 32.03\n",
      "\t\tšala 7, povp.: -0.49, var.: 31.34\n",
      "\n"
     ]
    }
   ],
   "source": [
    "n = 3\n",
    "for data, name in [(means, \"Povprečje (X)\"), (variances, \"Varianca (Y)\")]: \n",
    "    inxs = np.argsort(data)[:n]\n",
    "    print(\"Kriterij: %s\" % name)\n",
    "    print(\"\\tSpodnjih %d:\" % n)\n",
    "    for i in inxs:\n",
    "        print(\"\\t\\tšala %d, povp.: %.2f, var.: %.2f\" % (i+1, means[i], variances[i]))\n",
    "        \n",
    "    inxs = np.argsort(data)[::-1][:n]\n",
    "    print(\"\\tZgornjih %d:\" % n)\n",
    "    for i in inxs:\n",
    "        print(\"\\t\\tšala %d, povp.: %.2f, var.: %.2f\" % (i+1, means[i], variances[i]))\n",
    "    print()"
   ]
  },
  {
   "cell_type": "markdown",
   "metadata": {
    "lang": "sl"
   },
   "source": [
    "Narišimo še porazdelitvi vzorcev $X$ in $Y$."
   ]
  },
  {
   "cell_type": "markdown",
   "metadata": {
    "lang": "en"
   },
   "source": [
    "Let's also draw up the distribution of samples $X$ and $Y$."
   ]
  },
  {
   "cell_type": "code",
   "execution_count": 7,
   "metadata": {},
   "outputs": [
    {
     "data": {
      "image/jpeg": "[encoded data removed]",
      "text/plain": [
       "<Figure size 900x300 with 2 Axes>"
      ]
     },
     "metadata": {},
     "output_type": "display_data"
    }
   ],
   "source": [
    "plt.figure(figsize=(9, 3))\n",
    "plt.subplot(1, 2, 1)\n",
    "plt.hist(means, density=False, bins=12)\n",
    "plt.xlabel(\"povprečna ocena šale (X)\")\n",
    "plt.ylabel(\"število vzorcev\")\n",
    "plt.text(-3, 2, \"< osamelci?\", rotation=90, verticalalignment=\"bottom\", color=\"red\")\n",
    "\n",
    "plt.subplot(1, 2, 2)\n",
    "plt.hist(variances, density=False, bins=12)\n",
    "plt.xlabel(\"varianca ocene šale (Y)\");"
   ]
  },
  {
   "cell_type": "markdown",
   "metadata": {
    "lang": "sl"
   },
   "source": [
    "Tole izgleda že bolje. Večina šal je torej v povprečju ocenjenih pozitivno, zelo malo je negativnih. Porazdelitvi spominjata na znane porazdelitve, kjer je večina primerov (šal) porazdeljenih okoli srednje vrednosti, manj pa je ekstremnih vrednosti.\n",
    "\n",
    "Poglejmo za trenutek porazdelitev povprečnih ocen. Izgleda, da imamo nekaj **osamelcev** - zelo slabih šal, ocenjenih z manj kot $X = -2$. Kako pomenljiv je padec od $X = -2$ navzdol? Da bi odgovorili na to vprašanje, spoznajmo osnove modeliranja podatkov s pomočjo verjetnostnih porazdelitev.\n",
    "\n",
    "Povprečna ocena izgleda normalno porazdeljena. Kakšni so najbolj verjetni parametri porazdelitve?"
   ]
  },
  {
   "cell_type": "markdown",
   "metadata": {
    "lang": "en"
   },
   "source": [
    "This looks better. Most jokes are therefore on average positive, very few are negative. The distribution look like familiar distributions, where the majority of cases (jokes) are distributed around the mean value, but there are fewer extreme values.\n",
    "\n",
    "Let's look for a moment at the distribution of average ratings. It seems that we have some **outliers** - very bad jokes rated less than $X = -2$. How significant is the drop from $X = -2$ down? To answer this question, let us learn the basics of data modeling using probability distributions.\n",
    "\n",
    "The average rating seems to be normally distributed. What are the most likely distribution parameters?"
   ]
  },
  {
   "cell_type": "code",
   "execution_count": 8,
   "metadata": {},
   "outputs": [
    {
     "data": {
      "image/jpeg": "[encoded data removed]",
      "text/plain": [
       "<Figure size 450x300 with 1 Axes>"
      ]
     },
     "metadata": {},
     "output_type": "display_data"
    }
   ],
   "source": [
    "from scipy.stats import multivariate_normal as mvn\n",
    "\n",
    "data = means\n",
    "    \n",
    "# Ocenimo parametre normalne (Gaussove) porazdelitve\n",
    "n = len(data)\n",
    "mu = np.mean(data)              # ocena sredine\n",
    "sigma2 = (n-1)/n * np.var(data) # ocena variance\n",
    "\n",
    "plt.figure()\n",
    "counts, bins, _ = plt.hist(data, density=True, label=\"vzorec\", bins=10)    # dobimo razpon\n",
    "pdf = [mvn.pdf(x, mu, sigma2) for x in bins]                              # pdf: [p]robability [d]ensity [f]unction\n",
    "plt.plot(bins, pdf, \"-\", label=\"model\", linewidth=2.0)\n",
    "plt.xlabel(\"povprečna ocena (X)\")\n",
    "plt.ylabel(\"P(X)\")\n",
    "\n",
    "plt.legend(loc=2);"
   ]
  },
  {
   "cell_type": "markdown",
   "metadata": {
    "lang": "sl"
   },
   "source": [
    "Na oko lahko ocenimo, da se porazdelitev kar dobro ujema z vzorcem. Kako statistično značilne so šale, ki imajo vrednost meritve manjšo od $X=-2.0$? *Kako nenavadno slabe so v resnici te šale?* Za odgovor na to vprašanje bomo izračunali t.i. *p-vrednost*. S pomočjo p-vrednosti ocenimo *nenavadnost* meritve, v našem primeru povprečne ocene šale.\n",
    "\n",
    "**Definicija.** P-vrednost je verjetnost, da pri vzorčenju ene vrednosti naključne spremenljivke dobimo dano ali manjšo (oz. večjo) vrednost. \n",
    "\n",
    "Definicijo si najlažje ogledamo grafično. Oglejmo si funkcijo porazdelitve, dobljeno z ocenjenima parametroma $\\mu$ in $\\sigma^2$."
   ]
  },
  {
   "cell_type": "markdown",
   "metadata": {
    "lang": "en"
   },
   "source": [
    "We can estimate that the distribution quite well matches the pattern. How statistically significant are jokes with a measurement value less than $X=-2.0$? *How unusually bad are these jokes really?* In order to answer this question we will calculate the so called *p-value*. Using the p-value, we evaluate *the oddness* of the measurement, in our case, the average joke rating.\n",
    "\n",
    "**Definition.** The p-value is the probability that a given or less (or greater) value is obtained when sampling one value of the random variable.\n",
    "\n",
    "The easiest way to look at the definition is graphically. Let's look at the distribution function obtained with the estimated parameters $\\mu$ and $\\sigma^2$."
   ]
  },
  {
   "cell_type": "code",
   "execution_count": 9,
   "metadata": {},
   "outputs": [
    {
     "name": "stdout",
     "output_type": "stream",
     "text": [
      "Verjetnost šale z oceno -2.000 ali manj: 3.019 %\n",
      "Nenavadnost šale JE statistično značilna (prag = 5.000 %)\n"
     ]
    },
    {
     "data": {
      "image/jpeg": "[encoded data removed]",
      "text/plain": [
       "<Figure size 450x300 with 1 Axes>"
      ]
     },
     "metadata": {},
     "output_type": "display_data"
    }
   ],
   "source": [
    "# Meritev, ki bi jo radi statisticno ocenili  \n",
    "qx = -2\n",
    "\n",
    "\n",
    "# Izračunamo P(x) za dovolj velik interval\n",
    "xr    = np.linspace(-5, 5, 100)\n",
    "width = xr[1] - xr[0]       # sirina intervala\n",
    "Px = [mvn.pdf(x, mu, sigma2) * (xr[1]-xr[0])   for x in xr]\n",
    "\n",
    "\n",
    "# Vse vrednosti, ki so manjše ali enake od qx\n",
    "ltx     = xr[xr <= qx]      \n",
    "\n",
    "# Množimo s širino intervala, da dobimo ploščino pod krivuljo\n",
    "P_ltx = [mvn.pdf(x, mu, sigma2) * width for x in ltx] \n",
    "                            \n",
    "# p-vrednost: ploscina pod krivuljo P(x) za vse vrednosti, manjse od qx\n",
    "p_value = np.sum(P_ltx)\n",
    "\n",
    "# Graf funkcije\n",
    "plt.figure()\n",
    "plt.plot(xr, Px, linewidth=2.0, label=\"model\")\n",
    "plt.fill_between(ltx, 0, P_ltx, alpha=0.2)\n",
    "plt.text(qx, mvn.pdf(qx, mu, sigma2) * width, \n",
    "         \"p=%f\" % p_value,  \n",
    "         horizontalalignment=\"right\",\n",
    "         verticalalignment=\"center\",\n",
    "        )\n",
    "\n",
    "plt.xlabel(\"X - povprečna ocena šale.\")\n",
    "plt.ylabel(\"P(X)\")\n",
    "plt.legend()\n",
    "\n",
    "\n",
    "# Poglejmo, ali je meritev statistično značilna pri danem pragu alpha (0.05, 0.01, 0.001 ... )\n",
    "alpha = 0.05\n",
    "if p_value < alpha:\n",
    "        sig = \"JE\"\n",
    "else:\n",
    "        sig = \"NI\"\n",
    "\n",
    "# Rezultat statističnega testa\n",
    "print(\"Verjetnost šale z oceno %.3f ali manj: \" % qx + \"%.3f\" % (100 * p_value) +  \" %\")\n",
    "print(\"Nenavadnost šale %s statistično značilna (prag = %.3f\" % (sig, 100*alpha), \"%)\")"
   ]
  },
  {
   "cell_type": "markdown",
   "metadata": {
    "collapsed": true,
    "lang": "sl"
   },
   "source": [
    "Sedaj lahko za vsako ekstremno vrednost v podatkih (bodisi visoko ali nizko) <i>statistično</i> ocenimo vrednost njene nenavadnosti. Pri postavljenem pragu npr. $\\alpha = 0.05$ lahko sprejmemo odločitev, ali je neka meritev osamelec ali ne."
   ]
  },
  {
   "cell_type": "markdown",
   "metadata": {
    "lang": "en"
   },
   "source": [
    "Now, for every extreme value in the data (either high or low), we can estimate <i>statistically</i> the value of its unusuality. At the set threshold, e.g. $\\alpha = 0.05$ we can make a decision whether or not some measurements are outliers or not."
   ]
  },
  {
   "cell_type": "markdown",
   "metadata": {
    "lang": "sl"
   },
   "source": [
    "##### Vprašanje 3-2-2\n",
    "\n",
    "Izpiši vse šale osamelce, katerih povprečna ocena $X$ je statistično značilna, pri pragu $\\alpha=0.05$. Poišči tudi osamelce med *dobro ocenjenimi* šalami."
   ]
  },
  {
   "cell_type": "markdown",
   "metadata": {
    "lang": "en"
   },
   "source": [
    "##### Question 3-2-2\n",
    "\n",
    "Write out all the outlier jokes whose average estimate of $X$ is statistically significant at the threshold of $\\alpha=0.05$. Find also the outliers among *well-rated* jokes."
   ]
  },
  {
   "cell_type": "code",
   "execution_count": null,
   "metadata": {},
   "outputs": [],
   "source": []
  },
  {
   "cell_type": "markdown",
   "metadata": {
    "lang": "sl"
   },
   "source": [
    "[Odgovor](203-2.ipynb#Odgovor-3-2-2)"
   ]
  },
  {
   "cell_type": "markdown",
   "metadata": {
    "lang": "en"
   },
   "source": [
    "[Answer](203-2.ipynb#Answer-3-2-2)"
   ]
  },
  {
   "cell_type": "markdown",
   "metadata": {
    "lang": "sl"
   },
   "source": [
    "##### Vprašanje 3-2-3\n",
    "\n",
    "Poizkusi porazdelitev modelirati z drugimi porazdelitvami (Student, Beta). Je katera od teh porazdelitev bolj primerna?"
   ]
  },
  {
   "cell_type": "markdown",
   "metadata": {
    "lang": "en"
   },
   "source": [
    "##### Question 3-2-3\n",
    "\n",
    "Try modelin the distribution with other distributions (Student's, Beta). Is any of these distributions more appropriate?"
   ]
  },
  {
   "cell_type": "code",
   "execution_count": null,
   "metadata": {},
   "outputs": [],
   "source": []
  },
  {
   "cell_type": "markdown",
   "metadata": {
    "lang": "sl"
   },
   "source": [
    "[Odgovor](203-2.ipynb#Odgovor-3-2-3)"
   ]
  },
  {
   "cell_type": "markdown",
   "metadata": {
    "lang": "en"
   },
   "source": [
    "[Answer](203-2.ipynb#Answer-3-2-3)"
   ]
  },
  {
   "cell_type": "markdown",
   "metadata": {
    "lang": "sl"
   },
   "source": [
    "##### Vprašanje 3-2-4\n",
    "\n",
    "Ponovi analizo za spremenljivko $Y$ - varianca ocen šale. Odgovori na vprašanja:\n",
    "* Katera od porazdelitev (normalna, Student, Beta) se najbolje prilega vzorcu?\n",
    "* Katere so statistično značilne šale (z visoko ali nizko varianco)?\n",
    "* Kaj pomeni, če ima šala visoko ali nizko vrednost $Y$?"
   ]
  },
  {
   "cell_type": "markdown",
   "metadata": {
    "lang": "en"
   },
   "source": [
    "##### Question 3-2-4\n",
    "\n",
    "Repeat the analysis for the variable $Y$ - variance of joke ratings. Answer the questions:\n",
    "* Which of the distributions (Normal, Student, Beta) best fits the pattern?\n",
    "* What are statistically significant jokes (with high or low variance)?\n",
    "* What does it mean if the joke has a high or low value of $Y$?"
   ]
  },
  {
   "cell_type": "code",
   "execution_count": null,
   "metadata": {},
   "outputs": [],
   "source": []
  },
  {
   "cell_type": "markdown",
   "metadata": {
    "lang": "sl"
   },
   "source": [
    "[Odgovor](203-2.ipynb#Odgovor-3-2-4)"
   ]
  },
  {
   "cell_type": "markdown",
   "metadata": {
    "lang": "en"
   },
   "source": [
    "[Answer](203-2.ipynb#Answer-3-2-4)"
   ]
  }
 ],
 "metadata": {
  "kernelspec": {
   "display_name": "Python 3",
   "language": "python",
   "name": "python3"
  },
  "language_info": {
   "codemirror_mode": {
    "name": "ipython",
    "version": 3
   },
   "file_extension": ".py",
   "mimetype": "text/x-python",
   "name": "python",
   "nbconvert_exporter": "python",
   "pygments_lexer": "ipython3",
   "version": "3.6.10"
  },
  "latex_envs": {
   "LaTeX_envs_menu_present": true,
   "autocomplete": true,
   "bibliofile": "biblio.bib",
   "cite_by": "apalike",
   "current_citInitial": 1,
   "eqLabelWithNumbers": true,
   "eqNumInitial": 1,
   "hotkeys": {
    "equation": "Ctrl-E",
    "itemize": "Ctrl-I"
   },
   "labels_anchors": false,
   "latex_user_defs": false,
   "report_style_numbering": false,
   "user_envs_cfg": false
  },
  "nbTranslate": {
   "displayLangs": [
    "sl"
   ],
   "hotkey": "alt-t",
   "langInMainMenu": true,
   "sourceLang": "sl",
   "targetLang": "en",
   "useGoogleTranslate": true
  }
 },
 "nbformat": 4,
 "nbformat_minor": 1
}
