{
 "cells": [
  {
   "cell_type": "markdown",
   "metadata": {
    "tags": [
     "sl"
    ]
   },
   "source": [
    "## Git in GitHuuub"
   ]
  },
  {
   "cell_type": "markdown",
   "metadata": {
    "tags": [
     "sl"
    ]
   },
   "source": [
    "Git je sistem za upravljanje z različicami (Version Control System - VCS). Uporablja se ga tako za sodelovanje med razvijalci, kot za nadzor nad lastnim delom. Git upravlja z datotekami v repozitoriju - mapa, kjer se hrani zgodovina sprememb.\n",
    "\n",
    "[GitHub](https://github.com) je spletna paltforma za gostovanje Git repozitorijev in omogoča sodelovanje več ljudi na istem projektu. Če še nimate uporabniškega računa, si ga ustvarite.\n",
    "\n",
    "Več o osnovah Gita in GitHuba si lahko preberete na https://guides.github.com/"
   ]
  },
  {
   "cell_type": "markdown",
   "metadata": {
    "tags": [
     "sl"
    ]
   },
   "source": [
    "### Nekaj osnovnih Git ukazov"
   ]
  },
  {
   "cell_type": "markdown",
   "metadata": {
    "tags": [
     "sl"
    ]
   },
   "source": [
    "* `git init`: inicializira nov repozitorij v izbrani mapi\n",
    "* `git clone`: na disk skopiramo vsebino oddaljenega repozitorija\n",
    "* `git add ime_datoteke`: doda določeno datoteko\n",
    "    * `git add .`: doda vse datoteke\n",
    "    * `git add *.ipynb`: doda vse ipynb datoteke\n",
    "* `git rm ime_datoteke`: izbriše določeno datoteko\n",
    "* `git commit -m \"sporočilo\"`: ukaz, s katerim shranimo izbrane datoteteke\n",
    "    * `git commit --amend`: doda spremembe k zadnjemu commitu\n",
    "* `git status`: ukaz, ki nam pokaže, katere datoteke so bile spremenjene in katere spremenjene datoteke bomo shranili\n",
    "* `git pull`: osvežimo lokalni repozitorij s spremembani na oddaljenem repozitoriju\n",
    "* `git push`: pošljemo svoje spremembe na oddaljen repozitorij\n",
    "* `git branch ime_veje`: pokaže lokalne veje ali jih ustvari\n",
    "* `git switch ime_veje`: zamenja vejo\n",
    "* `git merge ime_veje`: združevanje dveh vej\n",
    "\n",
    "Celoten seznam ukazov in njihovih parametrov je dosegljiv na https://git-scm.com/docs."
   ]
  },
  {
   "cell_type": "markdown",
   "metadata": {
    "tags": [
     "sl"
    ]
   },
   "source": [
    "### Namestitev"
   ]
  },
  {
   "cell_type": "markdown",
   "metadata": {
    "tags": [
     "sl"
    ]
   },
   "source": [
    "Ob namestitvi Gita na Windows izberite opcijo **Enable symbolic links**."
   ]
  }
 ],
 "metadata": {
  "kernelspec": {
   "display_name": "Python 3 (ipykernel)",
   "language": "python",
   "name": "python3"
  },
  "language_info": {
   "codemirror_mode": {
    "name": "ipython",
    "version": 3
   },
   "file_extension": ".py",
   "mimetype": "text/x-python",
   "name": "python",
   "nbconvert_exporter": "python",
   "pygments_lexer": "ipython3",
   "version": "3.11.7"
  },
  "latex_envs": {
   "LaTeX_envs_menu_present": true,
   "autocomplete": true,
   "bibliofile": "biblio.bib",
   "cite_by": "apalike",
   "current_citInitial": 1,
   "eqLabelWithNumbers": true,
   "eqNumInitial": 1,
   "hotkeys": {
    "equation": "Ctrl-E",
    "itemize": "Ctrl-I"
   },
   "labels_anchors": false,
   "latex_user_defs": false,
   "report_style_numbering": false,
   "user_envs_cfg": false
  },
  "nbTranslate": {
   "displayLangs": [
    "sl"
   ],
   "hotkey": "alt-t",
   "langInMainMenu": true,
   "sourceLang": "sl",
   "targetLang": "en",
   "useGoogleTranslate": true
  }
 },
 "nbformat": 4,
 "nbformat_minor": 4
}
